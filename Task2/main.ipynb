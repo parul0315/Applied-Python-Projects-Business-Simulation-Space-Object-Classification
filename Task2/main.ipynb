{
 "cells": [
  {
   "cell_type": "markdown",
   "metadata": {},
   "source": [
    "# Tracking Near-Earth Objects (NEOs): Exploratory Data Analysis\n",
    "\n",
    "## Data Collection: \n",
    "For this project, I obtained a dataset from NASA that provides detailed information about the NEOs and their approximate distance from Earth. The data is extracted via the NASA API for the month of January 2023. Due to the API's 7 days data fetch limit, the data is collected in 4 separate chunks, each corresponding to 7-day period in the month of January 2023. These chunks are then, merged to form a complete dataset for the entire month of January.\n",
    "\n",
    "Source: NASA Asteroids NeoWs (Near Earth Object Web Service)\n",
    "Time Period: January 2023"
   ]
  },
  {
   "cell_type": "code",
   "execution_count": 38,
   "metadata": {},
   "outputs": [],
   "source": [
    "import requests  # Import the requests module to make HTTP requests\n",
    "import json      # Import the json module to handle JSON data\n",
    "import pandas as pd\n",
    "# NASA API Key\n",
    "api_key = '43CeF9mMNkbz8M1IhqOEYi3ici40QBdXXT2IXwMX'\n",
    "\n",
    "# Function to make a request to the NASA API and fetch the data\n",
    "def get_nasa_data(start_date, end_date, api_key):\n",
    "    try:\n",
    "        # Base URL for NASA's API\n",
    "        base_url = \"https://api.nasa.gov/neo/rest/v1/feed\"\n",
    "        # Make the GET request to the NASA API with the specified parameters (date range and API key)\n",
    "        request = requests.get(base_url, params={'start_date': start_date, 'end_date': end_date, 'api_key': api_key})\n",
    "\n",
    "        # Check if the request was successful (status code 200)\n",
    "        if request.status_code == 200:\n",
    "            # Print response to verify data\n",
    "            print(f\"Data fetched for {start_date} to {end_date}\")\n",
    "            return request.json()  # Return the data as JSON\n",
    "        else:\n",
    "            print(f\"Failed to retrieve data for {start_date} to {end_date}, Status Code: {request.status_code}\")\n",
    "            return None\n",
    "    except:\n",
    "        print(f\"An error occurred\")\n",
    "        return None"
   ]
  },
  {
   "cell_type": "code",
   "execution_count": 49,
   "metadata": {},
   "outputs": [
    {
     "name": "stdout",
     "output_type": "stream",
     "text": [
      "Data fetched for 2023-01-01 to 2023-01-07\n",
      "Data fetched for 2023-01-08 to 2023-01-14\n",
      "Data fetched for 2023-01-15 to 2023-01-21\n",
      "Data fetched for 2023-01-22 to 2023-01-28\n",
      "                                               links  element_count  \\\n",
      "0  {'next': 'http://api.nasa.gov/neo/rest/v1/feed...            115   \n",
      "1  {'next': 'http://api.nasa.gov/neo/rest/v1/feed...            122   \n",
      "2  {'next': 'http://api.nasa.gov/neo/rest/v1/feed...            108   \n",
      "3  {'next': 'http://api.nasa.gov/neo/rest/v1/feed...            133   \n",
      "\n",
      "                                  near_earth_objects  \n",
      "0  {'2023-01-01': [{'links': {'self': 'http://api...  \n",
      "1  {'2023-01-11': [{'links': {'self': 'http://api...  \n",
      "2  {'2023-01-20': [{'links': {'self': 'http://api...  \n",
      "3  {'2023-01-22': [{'links': {'self': 'http://api...  \n"
     ]
    },
    {
     "data": {
      "text/html": [
       "<div>\n",
       "<style scoped>\n",
       "    .dataframe tbody tr th:only-of-type {\n",
       "        vertical-align: middle;\n",
       "    }\n",
       "\n",
       "    .dataframe tbody tr th {\n",
       "        vertical-align: top;\n",
       "    }\n",
       "\n",
       "    .dataframe thead th {\n",
       "        text-align: right;\n",
       "    }\n",
       "</style>\n",
       "<table border=\"1\" class=\"dataframe\">\n",
       "  <thead>\n",
       "    <tr style=\"text-align: right;\">\n",
       "      <th></th>\n",
       "      <th>links</th>\n",
       "      <th>element_count</th>\n",
       "      <th>near_earth_objects</th>\n",
       "    </tr>\n",
       "  </thead>\n",
       "  <tbody>\n",
       "    <tr>\n",
       "      <th>0</th>\n",
       "      <td>{'next': 'http://api.nasa.gov/neo/rest/v1/feed...</td>\n",
       "      <td>115</td>\n",
       "      <td>{'2023-01-01': [{'links': {'self': 'http://api...</td>\n",
       "    </tr>\n",
       "    <tr>\n",
       "      <th>1</th>\n",
       "      <td>{'next': 'http://api.nasa.gov/neo/rest/v1/feed...</td>\n",
       "      <td>122</td>\n",
       "      <td>{'2023-01-11': [{'links': {'self': 'http://api...</td>\n",
       "    </tr>\n",
       "    <tr>\n",
       "      <th>2</th>\n",
       "      <td>{'next': 'http://api.nasa.gov/neo/rest/v1/feed...</td>\n",
       "      <td>108</td>\n",
       "      <td>{'2023-01-20': [{'links': {'self': 'http://api...</td>\n",
       "    </tr>\n",
       "    <tr>\n",
       "      <th>3</th>\n",
       "      <td>{'next': 'http://api.nasa.gov/neo/rest/v1/feed...</td>\n",
       "      <td>133</td>\n",
       "      <td>{'2023-01-22': [{'links': {'self': 'http://api...</td>\n",
       "    </tr>\n",
       "  </tbody>\n",
       "</table>\n",
       "</div>"
      ],
      "text/plain": [
       "                                               links  element_count  \\\n",
       "0  {'next': 'http://api.nasa.gov/neo/rest/v1/feed...            115   \n",
       "1  {'next': 'http://api.nasa.gov/neo/rest/v1/feed...            122   \n",
       "2  {'next': 'http://api.nasa.gov/neo/rest/v1/feed...            108   \n",
       "3  {'next': 'http://api.nasa.gov/neo/rest/v1/feed...            133   \n",
       "\n",
       "                                  near_earth_objects  \n",
       "0  {'2023-01-01': [{'links': {'self': 'http://api...  \n",
       "1  {'2023-01-11': [{'links': {'self': 'http://api...  \n",
       "2  {'2023-01-20': [{'links': {'self': 'http://api...  \n",
       "3  {'2023-01-22': [{'links': {'self': 'http://api...  "
      ]
     },
     "execution_count": 49,
     "metadata": {},
     "output_type": "execute_result"
    }
   ],
   "source": [
    "date_ranges = [\n",
    "    (\"2023-01-01\", \"2023-01-07\"),\n",
    "    (\"2023-01-08\", \"2023-01-14\"),\n",
    "    (\"2023-01-15\", \"2023-01-21\"),\n",
    "    (\"2023-01-22\", \"2023-01-28\")\n",
    "]\n",
    "\n",
    "# Initialize an empty list to hold the combined data\n",
    "neo_data = []\n",
    "\n",
    "# Loop through each date range, fetch the data and append it to the list\n",
    "for start_date, end_date in date_ranges:\n",
    "    data = get_nasa_data(start_date, end_date, api_key)\n",
    "    if data:\n",
    "        neo_data.append(data)  # Append data if fetched successfully\n",
    "    else:\n",
    "        print(f\"No data for {start_date} to {end_date}\")\n",
    "\n",
    "# Check if neo_data is not empty and then print the first 5 entries \n",
    "if neo_data:\n",
    "    df = pd.DataFrame(neo_data)  # Print the combined data in a readable format\n",
    "else:\n",
    "    print(\"No data was retrieved for the given date ranges.\")\n",
    "print(df)\n",
    "df.head()\n",
    "print(df['near_earth_objects'])"
   ]
  },
  {
   "cell_type": "markdown",
   "metadata": {},
   "source": [
    "## Data Extraction and Transformation for NEOs\n",
    "Now that, I have extracted the data from the NASA API and collected all the 4 weeks of data, I will tranform the raw JSON data into a structured format using Python's `pandas` library. The goal is to extract the key details about the NEOs (Near Earth Objects) and use them as variables.\n",
    "The key variables chosen here are:\n",
    "1. `id`: a unique identifier for each NEO\n",
    "2. `name`: the name of the NEO\n",
    "3. `absolute_magnitude_h`: the brightness of the NEO, which is an indicator of its size and reflectivity\n",
    "4. `estimated_diameter_min_km` & `estimated_diameter_max_km`: the minimun and maximum diameter of the NEO in kilometers.\n",
    "5. `is_potentially_hazardous_asteroid`:\n",
    "6. `close_approach_data`:\n",
    "7. `is_sentry_object`:\n"
   ]
  },
  {
   "cell_type": "code",
   "execution_count": 45,
   "metadata": {},
   "outputs": [],
   "source": [
    "import pandas as pd\n"
   ]
  }
 ],
 "metadata": {
  "kernelspec": {
   "display_name": "Python 3",
   "language": "python",
   "name": "python3"
  },
  "language_info": {
   "codemirror_mode": {
    "name": "ipython",
    "version": 3
   },
   "file_extension": ".py",
   "mimetype": "text/x-python",
   "name": "python",
   "nbconvert_exporter": "python",
   "pygments_lexer": "ipython3",
   "version": "3.12.7"
  }
 },
 "nbformat": 4,
 "nbformat_minor": 2
}
