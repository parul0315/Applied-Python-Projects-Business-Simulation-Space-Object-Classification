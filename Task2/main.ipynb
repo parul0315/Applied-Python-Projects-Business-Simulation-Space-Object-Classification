{
 "cells": [
  {
   "cell_type": "markdown",
   "metadata": {},
   "source": [
    "# Tracking Near-Earth Objects (NEOs): Exploratory Data Analysis\n",
    "\n",
    "## Data Collection: \n",
    "For this project, I obtained a dataset from NASA that provides detailed information about the NEOs and their approximate distance from Earth. The data is extracted via the NASA API for the month of January 2023. Due to the API's 7 days data fetch limit, the data is collected in 4 separate chunks, each corresponding to 7-day period in the month of January 2023. These chunks are then, merged to form a complete dataset for the entire month of January.\n",
    "\n",
    "Source: NASA Asteroids NeoWs (Near Earth Object Web Service)\n",
    "Time Period: January 2023"
   ]
  },
  {
   "cell_type": "code",
   "execution_count": 58,
   "metadata": {},
   "outputs": [],
   "source": [
    "import requests  # Import the requests module to make HTTP requests\n",
    "import json      # Import the json module to handle JSON data\n",
    "import pandas as pd\n",
    "# NASA API Key\n",
    "api_key = '43CeF9mMNkbz8M1IhqOEYi3ici40QBdXXT2IXwMX'\n",
    "\n",
    "# Function to make a request to the NASA API and fetch the data\n",
    "def get_nasa_data(start_date, end_date, api_key):\n",
    "    try:\n",
    "        # Base URL for NASA's API\n",
    "        base_url = \"https://api.nasa.gov/neo/rest/v1/feed\"\n",
    "        # Make the GET request to the NASA API with the specified parameters (date range and API key)\n",
    "        request = requests.get(base_url, params={'start_date': start_date, 'end_date': end_date, 'api_key': api_key})\n",
    "\n",
    "        # Check if the request was successful (status code 200)\n",
    "        if request.status_code == 200:\n",
    "            # Print response to verify data\n",
    "            print(f\"Data fetched for {start_date} to {end_date}\")\n",
    "            return request.json()  # Return the data as JSON\n",
    "        else:\n",
    "            print(f\"Failed to retrieve data for {start_date} to {end_date}, Status Code: {request.status_code}\")\n",
    "            return None\n",
    "    except:\n",
    "        print(f\"An error occurred\")\n",
    "        return None"
   ]
  },
  {
   "cell_type": "code",
   "execution_count": 59,
   "metadata": {},
   "outputs": [
    {
     "name": "stdout",
     "output_type": "stream",
     "text": [
      "Data fetched for 2023-01-01 to 2023-01-07\n",
      "Data fetched for 2023-01-08 to 2023-01-14\n",
      "Data fetched for 2023-01-15 to 2023-01-21\n",
      "Data fetched for 2023-01-22 to 2023-01-28\n",
      "                                               links  element_count  \\\n",
      "0  {'next': 'http://api.nasa.gov/neo/rest/v1/feed...            115   \n",
      "1  {'next': 'http://api.nasa.gov/neo/rest/v1/feed...            122   \n",
      "2  {'next': 'http://api.nasa.gov/neo/rest/v1/feed...            108   \n",
      "3  {'next': 'http://api.nasa.gov/neo/rest/v1/feed...            133   \n",
      "\n",
      "                                  near_earth_objects  \n",
      "0  {'2023-01-01': [{'links': {'self': 'http://api...  \n",
      "1  {'2023-01-11': [{'links': {'self': 'http://api...  \n",
      "2  {'2023-01-20': [{'links': {'self': 'http://api...  \n",
      "3  {'2023-01-22': [{'links': {'self': 'http://api...  \n",
      "0    {'2023-01-01': [{'links': {'self': 'http://api...\n",
      "1    {'2023-01-11': [{'links': {'self': 'http://api...\n",
      "2    {'2023-01-20': [{'links': {'self': 'http://api...\n",
      "3    {'2023-01-22': [{'links': {'self': 'http://api...\n",
      "Name: near_earth_objects, dtype: object\n"
     ]
    }
   ],
   "source": [
    "date_ranges = [\n",
    "    (\"2023-01-01\", \"2023-01-07\"),\n",
    "    (\"2023-01-08\", \"2023-01-14\"),\n",
    "    (\"2023-01-15\", \"2023-01-21\"),\n",
    "    (\"2023-01-22\", \"2023-01-28\")\n",
    "]\n",
    "\n",
    "# Initialize an empty list to hold the combined data\n",
    "neo_data = []\n",
    "\n",
    "# Loop through each date range, fetch the data and append it to the list\n",
    "for start_date, end_date in date_ranges:\n",
    "    data = get_nasa_data(start_date, end_date, api_key)\n",
    "    if data:\n",
    "        neo_data.append(data)  # Append data if fetched successfully\n",
    "    else:\n",
    "        print(f\"No data for {start_date} to {end_date}\")\n",
    "\n",
    "# Check if neo_data is not empty and then print the first 5 entries \n",
    "if neo_data:\n",
    "    neo_df = pd.DataFrame(neo_data)  # Print the combined data in a readable format\n",
    "else:\n",
    "    print(\"No data was retrieved for the given date ranges.\")\n",
    "\n",
    "\n",
    "print(neo_df)\n",
    "neo_df.head()\n",
    "print(neo_df['near_earth_objects'])\n"
   ]
  },
  {
   "cell_type": "markdown",
   "metadata": {},
   "source": [
    "## Data Extraction and Transformation for NEOs\n",
    "Now that, I have extracted the data from the NASA API and collected all the 4 weeks of data, I will tranform the raw JSON data into a structured format using Python's `pandas` library. The goal is to extract the key details about the NEOs (Near Earth Objects) and use them as variables.\n",
    "The key variables chosen here are:\n",
    "1. `id`: a unique identifier for each NEO\n",
    "2. `name`: the name of the NEO\n",
    "3. `absolute_magnitude_h`: the brightness of the NEO, which is an indicator of its size and reflectivity\n",
    "4. `estimated_diameter_min_km` & `estimated_diameter_max_km`: the minimun and maximum diameter of the NEO in kilometers.\n",
    "5. `is_potentially_hazardous_asteroid`: \n",
    "6. `close_approach_data`:\n",
    "7. `is_sentry_object`:"
   ]
  },
  {
   "cell_type": "code",
   "execution_count": 60,
   "metadata": {},
   "outputs": [
    {
     "name": "stdout",
     "output_type": "stream",
     "text": [
      "         Date       ID               Name  Abs_magnitude  Min_diameter  \\\n",
      "0  2023-01-01  2154347  154347 (2002 XK4)          16.08      1.616423   \n",
      "1  2023-01-01  2385186  385186 (1994 AW1)          17.64      0.788052   \n",
      "2  2023-01-01  2453309  453309 (2008 VQ4)          19.51      0.333085   \n",
      "3  2023-01-01  3683468       (2014 QR295)          18.39      0.557898   \n",
      "4  2023-01-01  3703782        (2015 AE45)          25.30      0.023150   \n",
      "\n",
      "   Max_diameter  Potential_hazard Close_approach_date Relative_velocity  \\\n",
      "0      3.614431             False          2023-01-01     27.3921993676   \n",
      "1      1.762138              True          2023-01-01     12.9241938417   \n",
      "2      0.744801             False          2023-01-01       5.822172435   \n",
      "3      1.247498             False          2023-01-01     16.1804693508   \n",
      "4      0.051765             False          2023-01-01      6.8621510862   \n",
      "\n",
      "  Miss_distance Orbiting_body  Sentry_object  \n",
      "0  0.3312263376         Earth          False  \n",
      "1  0.2232885314         Earth          False  \n",
      "2  0.2644821197         Earth          False  \n",
      "3  0.2629103243         Earth          False  \n",
      "4  0.0569979859         Earth          False  \n"
     ]
    }
   ],
   "source": [
    "\"\"\"\n",
    "extract the 'near_earth_objects' data to form the dataframe\n",
    "\"\"\"\n",
    "\n",
    "#initialize the neo_df as empty list to store the new data\n",
    "df =[]\n",
    "\n",
    "# create a loop through the NEO data\n",
    "for each_week in neo_df['near_earth_objects']:\n",
    "    for date, objects in each_week.items():\n",
    "        for neo in objects:\n",
    "            df.append({\n",
    "                'Date': date, 'ID': neo['id'], 'Name': neo['name'], 'Abs_magnitude': neo['absolute_magnitude_h'], 'Min_diameter': neo['estimated_diameter']['kilometers']['estimated_diameter_min'],\n",
    "                'Max_diameter': neo['estimated_diameter']['kilometers']['estimated_diameter_max'], 'Potential_hazard': neo['is_potentially_hazardous_asteroid'], \n",
    "                'Close_approach_date': neo['close_approach_data'][0]['close_approach_date'], 'Relative_velocity': neo['close_approach_data'][0]['relative_velocity']['kilometers_per_second'], \n",
    "                'Miss_distance': neo['close_approach_data'][0]['miss_distance']['astronomical'], 'Orbiting_body': neo['close_approach_data'][0]['orbiting_body'], \n",
    "                'Sentry_object': neo['is_sentry_object']\n",
    "            })\n",
    "\n",
    "df = pd.DataFrame(df)\n",
    "print(df.head())\n"
   ]
  },
  {
   "cell_type": "markdown",
   "metadata": {},
   "source": [
    "## Data Preparation and Cleaning\n",
    "\n",
    "### Handling the missing values \n",
    "Once we have converted the data into a dataframe, next we check for any missing values and the ways to address the issue.\n",
    "Since, there are no missing values in the dataset, we can move ahead to other aspects of the data preparation."
   ]
  },
  {
   "cell_type": "code",
   "execution_count": 61,
   "metadata": {},
   "outputs": [
    {
     "data": {
      "text/plain": [
       "Date                   0\n",
       "ID                     0\n",
       "Name                   0\n",
       "Abs_magnitude          0\n",
       "Min_diameter           0\n",
       "Max_diameter           0\n",
       "Potential_hazard       0\n",
       "Close_approach_date    0\n",
       "Relative_velocity      0\n",
       "Miss_distance          0\n",
       "Orbiting_body          0\n",
       "Sentry_object          0\n",
       "dtype: int64"
      ]
     },
     "execution_count": 61,
     "metadata": {},
     "output_type": "execute_result"
    }
   ],
   "source": [
    "# checking for any missing values in the dataframe\n",
    "df.isnull().sum()"
   ]
  },
  {
   "cell_type": "markdown",
   "metadata": {},
   "source": [
    "### Enriching the data \n",
    "To enrich the dataset by performing the following steps:\n",
    "- Parsing Dates: The dates columns - `Date` and `Close_approach_date` are currently stored as strings. Now, we'll convert it into `datetime` object for better analysis.\n",
    "- Extracting Data Features: The following are the additional features that we are adding into the dataframe-\n",
    "    1. Average Diameter: `Average_diameter`\n",
    "    2. Relative Velocity (in km/s): `Relative_velocity_km_s`"
   ]
  },
  {
   "cell_type": "markdown",
   "metadata": {},
   "source": [
    "### Parsing Dates\n",
    "To convert `Date` and `Close_approach_date` columns into `datetime` format, we use `pd.to_datetime()"
   ]
  },
  {
   "cell_type": "code",
   "execution_count": 62,
   "metadata": {},
   "outputs": [],
   "source": [
    "import datetime \n",
    "\n",
    "df['Date'] = pd.to_datetime(df['Date'])\n",
    "df['Close_approach_date'] = pd.to_datetime(df['Close_approach_date'])"
   ]
  },
  {
   "cell_type": "markdown",
   "metadata": {},
   "source": [
    "### Data Feature Engineering\n",
    "In this step, we create new features to further enhance our analysis. The following features are derived from the existing columns and provide more details about the NEOs.\n",
    "1. Average Diameter (in km) - this feature is the average of the minimum diameter and the maximum diameter of a specific NEO. The feature simplies the diameter range into a single value, making it easier for visualization and analysis.\n",
    "2. Relative Velocity (in km/s): this feature represents the relative velocity in kilometer/second. Doing so is essential since it is the standard unit for measuring speed in space and makes it easier to interpret the results."
   ]
  },
  {
   "cell_type": "code",
   "execution_count": 63,
   "metadata": {},
   "outputs": [],
   "source": [
    "# average diameter (in kilometer)\n",
    "df['Average_diameter'] = (df['Max_diameter'] + df['Min_diameter'])/2\n",
    "\n",
    "# relative velocity (in km/s)\n",
    "df['Relative_velocity'] = pd.to_numeric(df['Relative_velocity'])\n",
    "df['Relative_velocity_km_s'] = df['Relative_velocity'] / 3600"
   ]
  },
  {
   "cell_type": "code",
   "execution_count": 64,
   "metadata": {},
   "outputs": [
    {
     "data": {
      "text/html": [
       "<div>\n",
       "<style scoped>\n",
       "    .dataframe tbody tr th:only-of-type {\n",
       "        vertical-align: middle;\n",
       "    }\n",
       "\n",
       "    .dataframe tbody tr th {\n",
       "        vertical-align: top;\n",
       "    }\n",
       "\n",
       "    .dataframe thead th {\n",
       "        text-align: right;\n",
       "    }\n",
       "</style>\n",
       "<table border=\"1\" class=\"dataframe\">\n",
       "  <thead>\n",
       "    <tr style=\"text-align: right;\">\n",
       "      <th></th>\n",
       "      <th>Date</th>\n",
       "      <th>ID</th>\n",
       "      <th>Name</th>\n",
       "      <th>Abs_magnitude</th>\n",
       "      <th>Min_diameter</th>\n",
       "      <th>Max_diameter</th>\n",
       "      <th>Potential_hazard</th>\n",
       "      <th>Close_approach_date</th>\n",
       "      <th>Relative_velocity</th>\n",
       "      <th>Miss_distance</th>\n",
       "      <th>Orbiting_body</th>\n",
       "      <th>Sentry_object</th>\n",
       "      <th>Average_diameter</th>\n",
       "      <th>Relative_velocity_km_s</th>\n",
       "    </tr>\n",
       "  </thead>\n",
       "  <tbody>\n",
       "    <tr>\n",
       "      <th>0</th>\n",
       "      <td>2023-01-01</td>\n",
       "      <td>2154347</td>\n",
       "      <td>154347 (2002 XK4)</td>\n",
       "      <td>16.08</td>\n",
       "      <td>1.616423</td>\n",
       "      <td>3.614431</td>\n",
       "      <td>False</td>\n",
       "      <td>2023-01-01</td>\n",
       "      <td>27.392199</td>\n",
       "      <td>0.3312263376</td>\n",
       "      <td>Earth</td>\n",
       "      <td>False</td>\n",
       "      <td>2.615427</td>\n",
       "      <td>0.007609</td>\n",
       "    </tr>\n",
       "    <tr>\n",
       "      <th>1</th>\n",
       "      <td>2023-01-01</td>\n",
       "      <td>2385186</td>\n",
       "      <td>385186 (1994 AW1)</td>\n",
       "      <td>17.64</td>\n",
       "      <td>0.788052</td>\n",
       "      <td>1.762138</td>\n",
       "      <td>True</td>\n",
       "      <td>2023-01-01</td>\n",
       "      <td>12.924194</td>\n",
       "      <td>0.2232885314</td>\n",
       "      <td>Earth</td>\n",
       "      <td>False</td>\n",
       "      <td>1.275095</td>\n",
       "      <td>0.003590</td>\n",
       "    </tr>\n",
       "    <tr>\n",
       "      <th>2</th>\n",
       "      <td>2023-01-01</td>\n",
       "      <td>2453309</td>\n",
       "      <td>453309 (2008 VQ4)</td>\n",
       "      <td>19.51</td>\n",
       "      <td>0.333085</td>\n",
       "      <td>0.744801</td>\n",
       "      <td>False</td>\n",
       "      <td>2023-01-01</td>\n",
       "      <td>5.822172</td>\n",
       "      <td>0.2644821197</td>\n",
       "      <td>Earth</td>\n",
       "      <td>False</td>\n",
       "      <td>0.538943</td>\n",
       "      <td>0.001617</td>\n",
       "    </tr>\n",
       "    <tr>\n",
       "      <th>3</th>\n",
       "      <td>2023-01-01</td>\n",
       "      <td>3683468</td>\n",
       "      <td>(2014 QR295)</td>\n",
       "      <td>18.39</td>\n",
       "      <td>0.557898</td>\n",
       "      <td>1.247498</td>\n",
       "      <td>False</td>\n",
       "      <td>2023-01-01</td>\n",
       "      <td>16.180469</td>\n",
       "      <td>0.2629103243</td>\n",
       "      <td>Earth</td>\n",
       "      <td>False</td>\n",
       "      <td>0.902698</td>\n",
       "      <td>0.004495</td>\n",
       "    </tr>\n",
       "    <tr>\n",
       "      <th>4</th>\n",
       "      <td>2023-01-01</td>\n",
       "      <td>3703782</td>\n",
       "      <td>(2015 AE45)</td>\n",
       "      <td>25.30</td>\n",
       "      <td>0.023150</td>\n",
       "      <td>0.051765</td>\n",
       "      <td>False</td>\n",
       "      <td>2023-01-01</td>\n",
       "      <td>6.862151</td>\n",
       "      <td>0.0569979859</td>\n",
       "      <td>Earth</td>\n",
       "      <td>False</td>\n",
       "      <td>0.037458</td>\n",
       "      <td>0.001906</td>\n",
       "    </tr>\n",
       "  </tbody>\n",
       "</table>\n",
       "</div>"
      ],
      "text/plain": [
       "        Date       ID               Name  Abs_magnitude  Min_diameter  \\\n",
       "0 2023-01-01  2154347  154347 (2002 XK4)          16.08      1.616423   \n",
       "1 2023-01-01  2385186  385186 (1994 AW1)          17.64      0.788052   \n",
       "2 2023-01-01  2453309  453309 (2008 VQ4)          19.51      0.333085   \n",
       "3 2023-01-01  3683468       (2014 QR295)          18.39      0.557898   \n",
       "4 2023-01-01  3703782        (2015 AE45)          25.30      0.023150   \n",
       "\n",
       "   Max_diameter  Potential_hazard Close_approach_date  Relative_velocity  \\\n",
       "0      3.614431             False          2023-01-01          27.392199   \n",
       "1      1.762138              True          2023-01-01          12.924194   \n",
       "2      0.744801             False          2023-01-01           5.822172   \n",
       "3      1.247498             False          2023-01-01          16.180469   \n",
       "4      0.051765             False          2023-01-01           6.862151   \n",
       "\n",
       "  Miss_distance Orbiting_body  Sentry_object  Average_diameter  \\\n",
       "0  0.3312263376         Earth          False          2.615427   \n",
       "1  0.2232885314         Earth          False          1.275095   \n",
       "2  0.2644821197         Earth          False          0.538943   \n",
       "3  0.2629103243         Earth          False          0.902698   \n",
       "4  0.0569979859         Earth          False          0.037458   \n",
       "\n",
       "   Relative_velocity_km_s  \n",
       "0                0.007609  \n",
       "1                0.003590  \n",
       "2                0.001617  \n",
       "3                0.004495  \n",
       "4                0.001906  "
      ]
     },
     "execution_count": 64,
     "metadata": {},
     "output_type": "execute_result"
    }
   ],
   "source": [
    "df.head()"
   ]
  },
  {
   "cell_type": "markdown",
   "metadata": {},
   "source": [
    "### Identify the outliers and handle them\n"
   ]
  },
  {
   "cell_type": "code",
   "execution_count": 65,
   "metadata": {},
   "outputs": [
    {
     "data": {
      "application/vnd.plotly.v1+json": {
       "config": {
        "plotlyServerURL": "https://plot.ly"
       },
       "data": [
        {
         "hovertemplate": "x=%{x}<br>y=%{y}<extra></extra>",
         "legendgroup": "",
         "marker": {
          "color": "#636efa",
          "symbol": "circle"
         },
         "mode": "markers",
         "name": "",
         "orientation": "v",
         "showlegend": false,
         "type": "scatter",
         "x": [
          1.6164228334,
          0.7880521833,
          0.3330849243,
          0.5578982211,
          0.0231502122,
          0.0305179233,
          0.2025606009,
          0.0152951935,
          0.0140137697,
          0.0183888672,
          0.0088014652,
          0.1113153296,
          0.02053785,
          0.0490405098,
          0.011131533,
          0.046190746,
          0.0825191939,
          0.1176399894,
          0.0164647438,
          0.0236894499,
          0.011286388,
          0.1278070988,
          0.1063053145,
          0.0176422908,
          0.1822027706,
          0.3737274319,
          0.008405334,
          0.0457672667,
          0.4174024334,
          0.0385971268,
          0.0245784775,
          0.0284809831,
          0.0189913123,
          0.1543671822,
          0.1338304618,
          0.2221032822,
          0.2538370294,
          0.0468333233,
          0.0152951935,
          0.022108281,
          0.0319561887,
          0.0139493823,
          0.0852226386,
          0.0239086457,
          0.046190746,
          0.0244655496,
          0.011286388,
          0.1565146436,
          0.0366906138,
          0.219055911,
          0.0078805218,
          0.0163890951,
          0.012839703,
          0.4350658314,
          0.99667824,
          0.0082900085,
          0.0093444765,
          0.0298232505,
          0.00437074,
          0.0134448195,
          0.1579628558,
          0.0157962856,
          0.067383719,
          0.018304378,
          0.0178877195,
          0.0246919266,
          0.0099667824,
          0.0156514644,
          0.0172407032,
          0.2538370294,
          0.02658,
          0.0251509837,
          0.058150704,
          0.0472666667,
          0.0133215567,
          0.0071540995,
          0.0107288945,
          0.2063264836,
          0.0104846751,
          0.0223128464,
          0.0139365404,
          0.1460679643,
          0.0053034072,
          0.0530340723,
          0.4792421155,
          0.0490405098,
          0.0088014652,
          0.0175612318,
          0.0097399107,
          0.0628861456,
          0.0373727432,
          0.0708851033,
          0.0234722638,
          0.0302381333,
          0.0201629919,
          0.0118182991,
          0.0203495578,
          0.0182202771,
          0.4926687055,
          0.4041615334,
          0.1616422833,
          0.1788771952,
          0.1118291378,
          0.0506471459,
          0.0336166921,
          0.0573528464,
          0.1375798959,
          0.0868070458,
          0.0597798714,
          0.0185590173,
          0.0695913044,
          0.0145396843,
          0.038775283,
          0.1961349444,
          0.0780827277,
          1.5085335612,
          0.0291443905,
          0.0116025908,
          0.0400456158,
          0.0457672667,
          0.1072889455,
          0.0152951935,
          0.0096506147,
          0.0121494041,
          0.0213086029,
          0.0552783379,
          0.0084441313,
          0.0186446818,
          0.0492668706,
          0.1654074158,
          0.0284809831,
          0.6405528629,
          0.0513517179,
          0.063760979,
          0.273246732,
          0.0542693946,
          0.0506471459,
          0.4640395282,
          0.0291443905,
          0.0106795998,
          0.0547715431,
          0.0353634784,
          0.006832112,
          0.0263363131,
          0.0019613494,
          0.0042320908,
          0.0385971268,
          0.0532788665,
          0.2719912773,
          0.8522263865,
          0.3520099801,
          0.6494638409,
          0.0497227313,
          0.0305179233,
          0.5135171787,
          0.2368944994,
          0.0133215567,
          0.0015295194,
          0.0127219879,
          0.042320908,
          0.0120380177,
          0.0268259417,
          0.0366906138,
          0.1529519353,
          0.0290104841,
          0.0217047594,
          0.0147419515,
          0.0576175751,
          0.0114433973,
          0.5041444339,
          0.2968622513,
          0.3009920165,
          0.228325794,
          0.0366906138,
          0.02658,
          0.0110803882,
          0.0128989683,
          0.0640552863,
          0.0969515991,
          0.0286124454,
          0.0327005439,
          0.0122054832,
          0.0363542322,
          0.1144339731,
          0.0325502986,
          3.1372922496,
          0.152249185,
          0.1283970296,
          0.0052547853,
          0.2609486033,
          0.708851033,
          0.0888290416,
          0.0231502122,
          0.0780827277,
          0.0595052079,
          0.0073207399,
          0.0249203981,
          0.0708851033,
          0.2221032822,
          0.0504144434,
          0.024019003,
          0.0384197891,
          0.1508533561,
          0.0896509666,
          0.620233153,
          0.138852907,
          0.0058150704,
          0.0930154254,
          0.1565146436,
          0.0892390579,
          0.0504144434,
          0.0226232491,
          0.1248978541,
          0.1067959975,
          0.0152951935,
          0.0202560601,
          0.0123184191,
          0.0283501249,
          0.0488151892,
          0.0646479826,
          0.008366715,
          0.0080270317,
          0.0539454694,
          0.3166321257,
          0.1979497587,
          0.5682703234,
          0.1716148941,
          0.1382149359,
          0.0242412481,
          0.0110803882,
          0.022108281,
          0.0160160338,
          0.0096506147,
          0.0557898221,
          0.052547853,
          0.0107288945,
          0.0164647438,
          1.1927652464,
          0.4836764882,
          0.0718712133,
          0.0366906138,
          0.0086807046,
          0.2561857545,
          0.1797028549,
          0.010388551,
          0.0166170902,
          0.0267026877,
          0.0057883526,
          0.0363542322,
          0.0443154309,
          0.0236894499,
          0.208235599,
          0.3720103103,
          0.0695913044,
          0.6317641482,
          0.0421264611,
          0.1550797087,
          0.0280902094,
          0.0060611492,
          0.0361871997,
          0.3754524794,
          0.0360209346,
          0.040230458,
          0.0179702855,
          0.0033616692,
          0.0589596608,
          0.0232570687,
          0.6317641482,
          0.0235806068,
          0.5064714588,
          0.0925880583,
          0.0960627415,
          0.2025606009,
          0.0152951935,
          0.0101054342,
          0.0183888672,
          0.0375452479,
          0.0728710415,
          0.0057883526,
          0.1170994827,
          0.1638909515,
          0.1447288051,
          0.0237987955,
          0.004904051,
          0.0074912618,
          0.0220067027,
          0.0195233786,
          0.0511157782,
          0.0019794976,
          0.0062023315,
          0.0394961694,
          0.1474195145,
          0.0038419789,
          0.0069912523,
          0.0925880583,
          0.0122618211,
          0.0139493823,
          0.1586919792,
          0.2446554962,
          0.0353634784,
          0.0151549664,
          0.0068007213,
          0.0280902094,
          0.0309424699,
          0.0064647983,
          0.1108038821,
          1.3949382293,
          0.2469192656,
          0.0334622374,
          0.0483676488,
          0.0766575574,
          0.0573528464,
          0.0197949759,
          0.0167708462,
          0.0125474356,
          0.2053784995,
          0.0169260249,
          0.1077841687,
          0.0260948603,
          0.0174805453,
          0.0291443905,
          0.0075605776,
          0.0117099483,
          0.0921626549,
          0.0088014652,
          0.1024601475,
          0.0146067964,
          0.0336166921,
          0.0060891262,
          0.0417402433,
          0.0157962856,
          0.0506471459,
          0.0501828101,
          0.0738847787,
          0.057089334,
          0.057089334,
          0.0259749653,
          5.2790402903,
          0.6769474811,
          0.1764229081,
          0.0523064176,
          0.0110803882,
          0.2034955781,
          0.0518268695,
          0.0283501249,
          0.5064714588,
          0.095182033,
          0.0319561887,
          0.0592318063,
          0.0614546821,
          0.0040230458,
          0.1087814834,
          0.0992098919,
          0.0098754064,
          0.0086011194,
          0.0459785188,
          0.0174002295,
          0.1226182113,
          0.1838886721,
          0.0689532874,
          0.2072788434,
          0.1067959975,
          0.0614546821,
          0.0791689667,
          0.0987540639,
          0.3455850738,
          0.008405334,
          0.0634680239,
          0.0343997255,
          0.01034082,
          0.0236894499,
          0.057089334,
          0.0451393163,
          0.0135692229,
          0.0303777061,
          0.0268259417,
          0.1394938229,
          0.0210162379,
          0.6959130436,
          0.1278070988,
          0.0109283596,
          0.02658,
          0.0969515991,
          0.086011194,
          0.0407901194,
          0.1067959975,
          0.0296862251,
          0.0176422908,
          0.096506147,
          0.0327005439,
          0.0171614894,
          0.0251509837,
          0.0802703167,
          0.0339277435,
          0.021804944,
          0.0039861623,
          0.0340843469,
          0.0101054342,
          0.0175612318,
          0.0523064176,
          0.0155795524,
          0.0065246163,
          0.67383719,
          0.3771854893,
          0.4116754573,
          0.079534394,
          0.0411675457,
          0.0167708462,
          0.0350392641,
          0.0092162655,
          0.0069912523,
          0.0360209346,
          0.0251509837,
          0.0030658788,
          0.0031228777,
          0.0040602706,
          0.0092162655,
          0.0082140053,
          0.0759547566,
          0.0728710415,
          0.1579628558,
          0.2480589932,
          0.0334622374,
          0.0210162379,
          0.0821400526,
          0.0211132445,
          0.0160160338,
          0.0149470324,
          0.0160160338,
          0.1283970296,
          0.009830033,
          0.1460679643,
          0.0095621373,
          0.0101520787,
          0.0355267088,
          0.0073545309,
          0.011982708,
          0.0239086457,
          0.0457672667,
          0.2007035141,
          0.135692229,
          0.0608912622,
          0.1187284988,
          0.0258556212,
          0.0291443905,
          0.058150704,
          0.0127219879,
          0.0190789723,
          0.022108281,
          0.0185590173,
          0.031228777,
          0.0137579896,
          0.0197949759,
          0.040978398,
          0.0136318556,
          0.0153657929,
          0.0060611492,
          0.0319561887,
          0.0183888672,
          0.0054771543,
          0.0093444765,
          0.0419329075,
          0.0169260249,
          0.1198270801,
          0.0470494961,
          0.0904804968,
          0.0169260249,
          0.1248978541,
          0.0105816886,
          0.0306587876,
          0.1594244681,
          0.2272767323,
          0.0908981358,
          0.0273246732,
          0.0350392641,
          0.0126635356,
          0.0075605776,
          0.1677084622
         ],
         "xaxis": "x",
         "y": [
          3.6144313359,
          1.7621382518,
          0.744800533,
          1.2474983468,
          0.0517654482,
          0.0682401509,
          0.4529392731,
          0.0342010925,
          0.0313357417,
          0.0411187571,
          0.0196806745,
          0.2489086439,
          0.0459240286,
          0.1096579137,
          0.0248908644,
          0.1032856481,
          0.1845185269,
          0.2630510131,
          0.0368162863,
          0.0529712204,
          0.0252371308,
          0.285785361,
          0.2377059096,
          0.0394493615,
          0.4074177807,
          0.8356799428,
          0.0187948982,
          0.1023387195,
          0.933340215,
          0.0863057993,
          0.0549591464,
          0.0636854144,
          0.0424658654,
          0.3451755128,
          0.2992540101,
          0.4966380371,
          0.5675968529,
          0.1047224945,
          0.0342010925,
          0.0494356193,
          0.0714562102,
          0.0311917671,
          0.1905636132,
          0.0534613571,
          0.1032856481,
          0.0547066321,
          0.0252371308,
          0.3499773825,
          0.0820427065,
          0.4898239078,
          0.0176213825,
          0.0366471308,
          0.0287104486,
          0.9728367737,
          2.2286402963,
          0.0185370226,
          0.0208948847,
          0.0666868155,
          0.0097732718,
          0.0300635304,
          0.3532156834,
          0.0353215683,
          0.1506745763,
          0.0409298336,
          0.0399981568,
          0.0552128263,
          0.022286403,
          0.0349977383,
          0.0385513844,
          0.5675968529,
          0.0594346868,
          0.0562393094,
          0.130028927,
          0.1056914799,
          0.0297879063,
          0.0159970528,
          0.0239905375,
          0.4613600429,
          0.0234444462,
          0.0498930414,
          0.0311630516,
          0.3266178974,
          0.0118587791,
          0.1185877909,
          1.071617948,
          0.1096579137,
          0.0196806745,
          0.0392681082,
          0.0217791025,
          0.1406176963,
          0.0835679943,
          0.1585039096,
          0.0524855773,
          0.0676145215,
          0.0450858206,
          0.0264265201,
          0.0455029946,
          0.0407417781,
          1.1016407159,
          0.9037326626,
          0.3614431336,
          0.3999815682,
          0.250057554,
          0.1132504611,
          0.0751692087,
          0.1282448632,
          0.3076379996,
          0.1941064553,
          0.1336718562,
          0.0414992243,
          0.1556108872,
          0.0325117225,
          0.0867041687,
          0.4385710684,
          0.1745982871,
          3.3731835891,
          0.0651688382,
          0.0259441818,
          0.0895447192,
          0.1023387195,
          0.2399053753,
          0.0342010925,
          0.0215794305,
          0.0271668934,
          0.0476474846,
          0.1236061213,
          0.0188816516,
          0.041690776,
          0.1101640716,
          0.3698622257,
          0.0636854144,
          1.4323197447,
          0.1148259319,
          0.1425738833,
          0.6109982675,
          0.1213500554,
          0.1132504611,
          1.0376239294,
          0.0651688382,
          0.023880311,
          0.1224728936,
          0.0790751417,
          0.0152770668,
          0.0588897864,
          0.0043857107,
          0.0094632427,
          0.0863057993,
          0.1191351672,
          0.6081909854,
          1.9056361323,
          0.7871182442,
          1.4522452972,
          0.1111834072,
          0.0682401509,
          1.1482593191,
          0.5297122041,
          0.0297879063,
          0.0034201092,
          0.0284472297,
          0.0946324271,
          0.0269178258,
          0.0599846292,
          0.0820427065,
          0.3420109247,
          0.0648694146,
          0.0485333175,
          0.0329640056,
          0.1288368146,
          0.0255882143,
          1.1273012246,
          0.6638041738,
          0.6730386097,
          0.5105519964,
          0.0820427065,
          0.0594346868,
          0.0247765013,
          0.02884297,
          0.1432319745,
          0.2167903661,
          0.0639793729,
          0.0731206391,
          0.0272922901,
          0.0812905344,
          0.2558821427,
          0.0727846803,
          7.0151987353,
          0.3404395273,
          0.2871044863,
          0.0117500571,
          0.5834988155,
          1.5850390958,
          0.1986277755,
          0.0517654482,
          0.1745982871,
          0.1330576898,
          0.016369672,
          0.0557237043,
          0.1585039096,
          0.4966380371,
          0.1127301225,
          0.0537081235,
          0.0859092601,
          0.3373183589,
          0.2004656557,
          1.3868834919,
          0.310484539,
          0.0130028927,
          0.2079888141,
          0.3499773825,
          0.1995445996,
          0.1127301225,
          0.0505871228,
          0.2792800919,
          0.2388031102,
          0.0342010925,
          0.0452939273,
          0.0275448225,
          0.0633928065,
          0.1091540813,
          0.1445572836,
          0.0187085435,
          0.0179489885,
          0.1206257367,
          0.708010957,
          0.4426291165,
          1.2706910727,
          0.3837425691,
          0.3090579921,
          0.0542050786,
          0.0247765013,
          0.0494356193,
          0.0358129403,
          0.0215794305,
          0.1247498347,
          0.1175005715,
          0.0239905375,
          0.0368162863,
          2.6671041722,
          1.0815335068,
          0.1607089186,
          0.0820427065,
          0.0194106455,
          0.5728487619,
          0.4018277992,
          0.0232295062,
          0.0371569432,
          0.0597090249,
          0.0129431498,
          0.0812905344,
          0.099092316,
          0.0529712204,
          0.4656289548,
          0.8318403423,
          0.1556108872,
          1.4126675811,
          0.0941976306,
          0.3467687706,
          0.0628116177,
          0.0135531417,
          0.0809170384,
          0.8395372662,
          0.0805452583,
          0.0899580388,
          0.0401827799,
          0.0075169209,
          0.1318378096,
          0.0520043867,
          1.4126675811,
          0.0527278398,
          1.1325046106,
          0.2070331923,
          0.2148028201,
          0.4529392731,
          0.0342010925,
          0.0225964377,
          0.0411187571,
          0.0839537266,
          0.1629446024,
          0.0129431498,
          0.2618424035,
          0.3664713084,
          0.3236234466,
          0.0532157244,
          0.0109657914,
          0.0167509707,
          0.0492084832,
          0.0436556017,
          0.1142983547,
          0.0044262912,
          0.0138688349,
          0.0883161196,
          0.3296400556,
          0.008590926,
          0.0156329154,
          0.2070331923,
          0.0274182656,
          0.0311917671,
          0.3548460529,
          0.5470663205,
          0.0790751417,
          0.033887535,
          0.0152068751,
          0.0628116177,
          0.069189466,
          0.0144557284,
          0.2477650126,
          3.1191767052,
          0.5521282628,
          0.0748238376,
          0.1081533507,
          0.1714115092,
          0.1282448632,
          0.0442629117,
          0.0375007522,
          0.028056919,
          0.459240286,
          0.0378477424,
          0.2410127282,
          0.0583498816,
          0.0390876876,
          0.0651688382,
          0.0169059655,
          0.0261842403,
          0.2060819612,
          0.0196806745,
          0.2291078547,
          0.0326617897,
          0.0751692087,
          0.0136157002,
          0.0933340215,
          0.0353215683,
          0.1132504611,
          0.1122121746,
          0.1652113876,
          0.1276556316,
          0.1276556316,
          0.0580817882,
          11.8042929452,
          1.513700585,
          0.3944936153,
          0.1169607054,
          0.0247765013,
          0.4550299458,
          0.1158884032,
          0.0633928065,
          1.1325046106,
          0.212833496,
          0.0714562102,
          0.1324463452,
          0.1374168468,
          0.0089958039,
          0.2432427915,
          0.2218400624,
          0.02208208,
          0.0192326877,
          0.1028110936,
          0.038908096,
          0.2741826558,
          0.411187571,
          0.154184238,
          0.4634895841,
          0.2388031102,
          0.1374168468,
          0.1770271912,
          0.2208207999,
          0.7727517171,
          0.0187948982,
          0.1419188158,
          0.0769201245,
          0.0231227764,
          0.0529712204,
          0.1276556316,
          0.1009345797,
          0.0303417048,
          0.0679266159,
          0.0599846292,
          0.3119176705,
          0.0469937366,
          1.5561088719,
          0.285785361,
          0.0244365549,
          0.0594346868,
          0.2167903661,
          0.1923268766,
          0.0912094798,
          0.2388031102,
          0.0663804174,
          0.0394493615,
          0.2157943048,
          0.0731206391,
          0.0383742569,
          0.0562393094,
          0.1794898848,
          0.0758647409,
          0.0487573371,
          0.0089133299,
          0.0762149166,
          0.0225964377,
          0.0392681082,
          0.1169607054,
          0.0348369383,
          0.0145894856,
          1.5067457626,
          0.8434123941,
          0.9205343072,
          0.1778443116,
          0.0920534307,
          0.0375007522,
          0.0783501764,
          0.0206081961,
          0.0156329154,
          0.0805452583,
          0.0562393094,
          0.0068555133,
          0.0069829668,
          0.009079041,
          0.0206081961,
          0.0183670741,
          0.1698399991,
          0.1629446024,
          0.3532156834,
          0.5546767711,
          0.0748238376,
          0.0469937366,
          0.1836707413,
          0.0472106499,
          0.0358129403,
          0.0334225806,
          0.0358129403,
          0.2871044863,
          0.0219806221,
          0.3266178974,
          0.0213815891,
          0.0227007381,
          0.079440136,
          0.016445231,
          0.0267941497,
          0.0534613571,
          0.1023387195,
          0.4487867009,
          0.303417048,
          0.1361570015,
          0.2654849942,
          0.0578149266,
          0.0651688382,
          0.130028927,
          0.0284472297,
          0.0426618789,
          0.0494356193,
          0.0414992243,
          0.0698296682,
          0.0307638,
          0.0442629117,
          0.0916304836,
          0.0304817558,
          0.0343589575,
          0.0135531417,
          0.0714562102,
          0.0411187571,
          0.0122472894,
          0.0208948847,
          0.0937648318,
          0.0378477424,
          0.2679414966,
          0.1052058716,
          0.2023205415,
          0.0378477424,
          0.2792800919,
          0.023661375,
          0.0685551332,
          0.3564839479,
          0.5082062231,
          0.2032544107,
          0.0610998267,
          0.0783501764,
          0.0283165265,
          0.0169059655,
          0.3750075218
         ],
         "yaxis": "y"
        }
       ],
       "layout": {
        "legend": {
         "tracegroupgap": 0
        },
        "template": {
         "data": {
          "bar": [
           {
            "error_x": {
             "color": "#2a3f5f"
            },
            "error_y": {
             "color": "#2a3f5f"
            },
            "marker": {
             "line": {
              "color": "#E5ECF6",
              "width": 0.5
             },
             "pattern": {
              "fillmode": "overlay",
              "size": 10,
              "solidity": 0.2
             }
            },
            "type": "bar"
           }
          ],
          "barpolar": [
           {
            "marker": {
             "line": {
              "color": "#E5ECF6",
              "width": 0.5
             },
             "pattern": {
              "fillmode": "overlay",
              "size": 10,
              "solidity": 0.2
             }
            },
            "type": "barpolar"
           }
          ],
          "carpet": [
           {
            "aaxis": {
             "endlinecolor": "#2a3f5f",
             "gridcolor": "white",
             "linecolor": "white",
             "minorgridcolor": "white",
             "startlinecolor": "#2a3f5f"
            },
            "baxis": {
             "endlinecolor": "#2a3f5f",
             "gridcolor": "white",
             "linecolor": "white",
             "minorgridcolor": "white",
             "startlinecolor": "#2a3f5f"
            },
            "type": "carpet"
           }
          ],
          "choropleth": [
           {
            "colorbar": {
             "outlinewidth": 0,
             "ticks": ""
            },
            "type": "choropleth"
           }
          ],
          "contour": [
           {
            "colorbar": {
             "outlinewidth": 0,
             "ticks": ""
            },
            "colorscale": [
             [
              0,
              "#0d0887"
             ],
             [
              0.1111111111111111,
              "#46039f"
             ],
             [
              0.2222222222222222,
              "#7201a8"
             ],
             [
              0.3333333333333333,
              "#9c179e"
             ],
             [
              0.4444444444444444,
              "#bd3786"
             ],
             [
              0.5555555555555556,
              "#d8576b"
             ],
             [
              0.6666666666666666,
              "#ed7953"
             ],
             [
              0.7777777777777778,
              "#fb9f3a"
             ],
             [
              0.8888888888888888,
              "#fdca26"
             ],
             [
              1,
              "#f0f921"
             ]
            ],
            "type": "contour"
           }
          ],
          "contourcarpet": [
           {
            "colorbar": {
             "outlinewidth": 0,
             "ticks": ""
            },
            "type": "contourcarpet"
           }
          ],
          "heatmap": [
           {
            "colorbar": {
             "outlinewidth": 0,
             "ticks": ""
            },
            "colorscale": [
             [
              0,
              "#0d0887"
             ],
             [
              0.1111111111111111,
              "#46039f"
             ],
             [
              0.2222222222222222,
              "#7201a8"
             ],
             [
              0.3333333333333333,
              "#9c179e"
             ],
             [
              0.4444444444444444,
              "#bd3786"
             ],
             [
              0.5555555555555556,
              "#d8576b"
             ],
             [
              0.6666666666666666,
              "#ed7953"
             ],
             [
              0.7777777777777778,
              "#fb9f3a"
             ],
             [
              0.8888888888888888,
              "#fdca26"
             ],
             [
              1,
              "#f0f921"
             ]
            ],
            "type": "heatmap"
           }
          ],
          "heatmapgl": [
           {
            "colorbar": {
             "outlinewidth": 0,
             "ticks": ""
            },
            "colorscale": [
             [
              0,
              "#0d0887"
             ],
             [
              0.1111111111111111,
              "#46039f"
             ],
             [
              0.2222222222222222,
              "#7201a8"
             ],
             [
              0.3333333333333333,
              "#9c179e"
             ],
             [
              0.4444444444444444,
              "#bd3786"
             ],
             [
              0.5555555555555556,
              "#d8576b"
             ],
             [
              0.6666666666666666,
              "#ed7953"
             ],
             [
              0.7777777777777778,
              "#fb9f3a"
             ],
             [
              0.8888888888888888,
              "#fdca26"
             ],
             [
              1,
              "#f0f921"
             ]
            ],
            "type": "heatmapgl"
           }
          ],
          "histogram": [
           {
            "marker": {
             "pattern": {
              "fillmode": "overlay",
              "size": 10,
              "solidity": 0.2
             }
            },
            "type": "histogram"
           }
          ],
          "histogram2d": [
           {
            "colorbar": {
             "outlinewidth": 0,
             "ticks": ""
            },
            "colorscale": [
             [
              0,
              "#0d0887"
             ],
             [
              0.1111111111111111,
              "#46039f"
             ],
             [
              0.2222222222222222,
              "#7201a8"
             ],
             [
              0.3333333333333333,
              "#9c179e"
             ],
             [
              0.4444444444444444,
              "#bd3786"
             ],
             [
              0.5555555555555556,
              "#d8576b"
             ],
             [
              0.6666666666666666,
              "#ed7953"
             ],
             [
              0.7777777777777778,
              "#fb9f3a"
             ],
             [
              0.8888888888888888,
              "#fdca26"
             ],
             [
              1,
              "#f0f921"
             ]
            ],
            "type": "histogram2d"
           }
          ],
          "histogram2dcontour": [
           {
            "colorbar": {
             "outlinewidth": 0,
             "ticks": ""
            },
            "colorscale": [
             [
              0,
              "#0d0887"
             ],
             [
              0.1111111111111111,
              "#46039f"
             ],
             [
              0.2222222222222222,
              "#7201a8"
             ],
             [
              0.3333333333333333,
              "#9c179e"
             ],
             [
              0.4444444444444444,
              "#bd3786"
             ],
             [
              0.5555555555555556,
              "#d8576b"
             ],
             [
              0.6666666666666666,
              "#ed7953"
             ],
             [
              0.7777777777777778,
              "#fb9f3a"
             ],
             [
              0.8888888888888888,
              "#fdca26"
             ],
             [
              1,
              "#f0f921"
             ]
            ],
            "type": "histogram2dcontour"
           }
          ],
          "mesh3d": [
           {
            "colorbar": {
             "outlinewidth": 0,
             "ticks": ""
            },
            "type": "mesh3d"
           }
          ],
          "parcoords": [
           {
            "line": {
             "colorbar": {
              "outlinewidth": 0,
              "ticks": ""
             }
            },
            "type": "parcoords"
           }
          ],
          "pie": [
           {
            "automargin": true,
            "type": "pie"
           }
          ],
          "scatter": [
           {
            "fillpattern": {
             "fillmode": "overlay",
             "size": 10,
             "solidity": 0.2
            },
            "type": "scatter"
           }
          ],
          "scatter3d": [
           {
            "line": {
             "colorbar": {
              "outlinewidth": 0,
              "ticks": ""
             }
            },
            "marker": {
             "colorbar": {
              "outlinewidth": 0,
              "ticks": ""
             }
            },
            "type": "scatter3d"
           }
          ],
          "scattercarpet": [
           {
            "marker": {
             "colorbar": {
              "outlinewidth": 0,
              "ticks": ""
             }
            },
            "type": "scattercarpet"
           }
          ],
          "scattergeo": [
           {
            "marker": {
             "colorbar": {
              "outlinewidth": 0,
              "ticks": ""
             }
            },
            "type": "scattergeo"
           }
          ],
          "scattergl": [
           {
            "marker": {
             "colorbar": {
              "outlinewidth": 0,
              "ticks": ""
             }
            },
            "type": "scattergl"
           }
          ],
          "scattermapbox": [
           {
            "marker": {
             "colorbar": {
              "outlinewidth": 0,
              "ticks": ""
             }
            },
            "type": "scattermapbox"
           }
          ],
          "scatterpolar": [
           {
            "marker": {
             "colorbar": {
              "outlinewidth": 0,
              "ticks": ""
             }
            },
            "type": "scatterpolar"
           }
          ],
          "scatterpolargl": [
           {
            "marker": {
             "colorbar": {
              "outlinewidth": 0,
              "ticks": ""
             }
            },
            "type": "scatterpolargl"
           }
          ],
          "scatterternary": [
           {
            "marker": {
             "colorbar": {
              "outlinewidth": 0,
              "ticks": ""
             }
            },
            "type": "scatterternary"
           }
          ],
          "surface": [
           {
            "colorbar": {
             "outlinewidth": 0,
             "ticks": ""
            },
            "colorscale": [
             [
              0,
              "#0d0887"
             ],
             [
              0.1111111111111111,
              "#46039f"
             ],
             [
              0.2222222222222222,
              "#7201a8"
             ],
             [
              0.3333333333333333,
              "#9c179e"
             ],
             [
              0.4444444444444444,
              "#bd3786"
             ],
             [
              0.5555555555555556,
              "#d8576b"
             ],
             [
              0.6666666666666666,
              "#ed7953"
             ],
             [
              0.7777777777777778,
              "#fb9f3a"
             ],
             [
              0.8888888888888888,
              "#fdca26"
             ],
             [
              1,
              "#f0f921"
             ]
            ],
            "type": "surface"
           }
          ],
          "table": [
           {
            "cells": {
             "fill": {
              "color": "#EBF0F8"
             },
             "line": {
              "color": "white"
             }
            },
            "header": {
             "fill": {
              "color": "#C8D4E3"
             },
             "line": {
              "color": "white"
             }
            },
            "type": "table"
           }
          ]
         },
         "layout": {
          "annotationdefaults": {
           "arrowcolor": "#2a3f5f",
           "arrowhead": 0,
           "arrowwidth": 1
          },
          "autotypenumbers": "strict",
          "coloraxis": {
           "colorbar": {
            "outlinewidth": 0,
            "ticks": ""
           }
          },
          "colorscale": {
           "diverging": [
            [
             0,
             "#8e0152"
            ],
            [
             0.1,
             "#c51b7d"
            ],
            [
             0.2,
             "#de77ae"
            ],
            [
             0.3,
             "#f1b6da"
            ],
            [
             0.4,
             "#fde0ef"
            ],
            [
             0.5,
             "#f7f7f7"
            ],
            [
             0.6,
             "#e6f5d0"
            ],
            [
             0.7,
             "#b8e186"
            ],
            [
             0.8,
             "#7fbc41"
            ],
            [
             0.9,
             "#4d9221"
            ],
            [
             1,
             "#276419"
            ]
           ],
           "sequential": [
            [
             0,
             "#0d0887"
            ],
            [
             0.1111111111111111,
             "#46039f"
            ],
            [
             0.2222222222222222,
             "#7201a8"
            ],
            [
             0.3333333333333333,
             "#9c179e"
            ],
            [
             0.4444444444444444,
             "#bd3786"
            ],
            [
             0.5555555555555556,
             "#d8576b"
            ],
            [
             0.6666666666666666,
             "#ed7953"
            ],
            [
             0.7777777777777778,
             "#fb9f3a"
            ],
            [
             0.8888888888888888,
             "#fdca26"
            ],
            [
             1,
             "#f0f921"
            ]
           ],
           "sequentialminus": [
            [
             0,
             "#0d0887"
            ],
            [
             0.1111111111111111,
             "#46039f"
            ],
            [
             0.2222222222222222,
             "#7201a8"
            ],
            [
             0.3333333333333333,
             "#9c179e"
            ],
            [
             0.4444444444444444,
             "#bd3786"
            ],
            [
             0.5555555555555556,
             "#d8576b"
            ],
            [
             0.6666666666666666,
             "#ed7953"
            ],
            [
             0.7777777777777778,
             "#fb9f3a"
            ],
            [
             0.8888888888888888,
             "#fdca26"
            ],
            [
             1,
             "#f0f921"
            ]
           ]
          },
          "colorway": [
           "#636efa",
           "#EF553B",
           "#00cc96",
           "#ab63fa",
           "#FFA15A",
           "#19d3f3",
           "#FF6692",
           "#B6E880",
           "#FF97FF",
           "#FECB52"
          ],
          "font": {
           "color": "#2a3f5f"
          },
          "geo": {
           "bgcolor": "white",
           "lakecolor": "white",
           "landcolor": "#E5ECF6",
           "showlakes": true,
           "showland": true,
           "subunitcolor": "white"
          },
          "hoverlabel": {
           "align": "left"
          },
          "hovermode": "closest",
          "mapbox": {
           "style": "light"
          },
          "paper_bgcolor": "white",
          "plot_bgcolor": "#E5ECF6",
          "polar": {
           "angularaxis": {
            "gridcolor": "white",
            "linecolor": "white",
            "ticks": ""
           },
           "bgcolor": "#E5ECF6",
           "radialaxis": {
            "gridcolor": "white",
            "linecolor": "white",
            "ticks": ""
           }
          },
          "scene": {
           "xaxis": {
            "backgroundcolor": "#E5ECF6",
            "gridcolor": "white",
            "gridwidth": 2,
            "linecolor": "white",
            "showbackground": true,
            "ticks": "",
            "zerolinecolor": "white"
           },
           "yaxis": {
            "backgroundcolor": "#E5ECF6",
            "gridcolor": "white",
            "gridwidth": 2,
            "linecolor": "white",
            "showbackground": true,
            "ticks": "",
            "zerolinecolor": "white"
           },
           "zaxis": {
            "backgroundcolor": "#E5ECF6",
            "gridcolor": "white",
            "gridwidth": 2,
            "linecolor": "white",
            "showbackground": true,
            "ticks": "",
            "zerolinecolor": "white"
           }
          },
          "shapedefaults": {
           "line": {
            "color": "#2a3f5f"
           }
          },
          "ternary": {
           "aaxis": {
            "gridcolor": "white",
            "linecolor": "white",
            "ticks": ""
           },
           "baxis": {
            "gridcolor": "white",
            "linecolor": "white",
            "ticks": ""
           },
           "bgcolor": "#E5ECF6",
           "caxis": {
            "gridcolor": "white",
            "linecolor": "white",
            "ticks": ""
           }
          },
          "title": {
           "x": 0.05
          },
          "xaxis": {
           "automargin": true,
           "gridcolor": "white",
           "linecolor": "white",
           "ticks": "",
           "title": {
            "standoff": 15
           },
           "zerolinecolor": "white",
           "zerolinewidth": 2
          },
          "yaxis": {
           "automargin": true,
           "gridcolor": "white",
           "linecolor": "white",
           "ticks": "",
           "title": {
            "standoff": 15
           },
           "zerolinecolor": "white",
           "zerolinewidth": 2
          }
         }
        },
        "title": {
         "text": "Scatter Plot of Min Diameter vs Max Diameter"
        },
        "xaxis": {
         "anchor": "y",
         "domain": [
          0,
          1
         ],
         "title": {
          "text": "x"
         }
        },
        "yaxis": {
         "anchor": "x",
         "domain": [
          0,
          1
         ],
         "title": {
          "text": "y"
         }
        }
       }
      }
     },
     "metadata": {},
     "output_type": "display_data"
    },
    {
     "data": {
      "application/vnd.plotly.v1+json": {
       "config": {
        "plotlyServerURL": "https://plot.ly"
       },
       "data": [
        {
         "hovertemplate": "Min_diameter=%{x}<br>Abs_magnitude=%{y}<extra></extra>",
         "legendgroup": "",
         "marker": {
          "color": "#636efa",
          "symbol": "circle"
         },
         "mode": "markers",
         "name": "",
         "orientation": "v",
         "showlegend": false,
         "type": "scatter",
         "x": [
          1.6164228334,
          0.7880521833,
          0.3330849243,
          0.5578982211,
          0.0231502122,
          0.0305179233,
          0.2025606009,
          0.0152951935,
          0.0140137697,
          0.0183888672,
          0.0088014652,
          0.1113153296,
          0.02053785,
          0.0490405098,
          0.011131533,
          0.046190746,
          0.0825191939,
          0.1176399894,
          0.0164647438,
          0.0236894499,
          0.011286388,
          0.1278070988,
          0.1063053145,
          0.0176422908,
          0.1822027706,
          0.3737274319,
          0.008405334,
          0.0457672667,
          0.4174024334,
          0.0385971268,
          0.0245784775,
          0.0284809831,
          0.0189913123,
          0.1543671822,
          0.1338304618,
          0.2221032822,
          0.2538370294,
          0.0468333233,
          0.0152951935,
          0.022108281,
          0.0319561887,
          0.0139493823,
          0.0852226386,
          0.0239086457,
          0.046190746,
          0.0244655496,
          0.011286388,
          0.1565146436,
          0.0366906138,
          0.219055911,
          0.0078805218,
          0.0163890951,
          0.012839703,
          0.4350658314,
          0.99667824,
          0.0082900085,
          0.0093444765,
          0.0298232505,
          0.00437074,
          0.0134448195,
          0.1579628558,
          0.0157962856,
          0.067383719,
          0.018304378,
          0.0178877195,
          0.0246919266,
          0.0099667824,
          0.0156514644,
          0.0172407032,
          0.2538370294,
          0.02658,
          0.0251509837,
          0.058150704,
          0.0472666667,
          0.0133215567,
          0.0071540995,
          0.0107288945,
          0.2063264836,
          0.0104846751,
          0.0223128464,
          0.0139365404,
          0.1460679643,
          0.0053034072,
          0.0530340723,
          0.4792421155,
          0.0490405098,
          0.0088014652,
          0.0175612318,
          0.0097399107,
          0.0628861456,
          0.0373727432,
          0.0708851033,
          0.0234722638,
          0.0302381333,
          0.0201629919,
          0.0118182991,
          0.0203495578,
          0.0182202771,
          0.4926687055,
          0.4041615334,
          0.1616422833,
          0.1788771952,
          0.1118291378,
          0.0506471459,
          0.0336166921,
          0.0573528464,
          0.1375798959,
          0.0868070458,
          0.0597798714,
          0.0185590173,
          0.0695913044,
          0.0145396843,
          0.038775283,
          0.1961349444,
          0.0780827277,
          1.5085335612,
          0.0291443905,
          0.0116025908,
          0.0400456158,
          0.0457672667,
          0.1072889455,
          0.0152951935,
          0.0096506147,
          0.0121494041,
          0.0213086029,
          0.0552783379,
          0.0084441313,
          0.0186446818,
          0.0492668706,
          0.1654074158,
          0.0284809831,
          0.6405528629,
          0.0513517179,
          0.063760979,
          0.273246732,
          0.0542693946,
          0.0506471459,
          0.4640395282,
          0.0291443905,
          0.0106795998,
          0.0547715431,
          0.0353634784,
          0.006832112,
          0.0263363131,
          0.0019613494,
          0.0042320908,
          0.0385971268,
          0.0532788665,
          0.2719912773,
          0.8522263865,
          0.3520099801,
          0.6494638409,
          0.0497227313,
          0.0305179233,
          0.5135171787,
          0.2368944994,
          0.0133215567,
          0.0015295194,
          0.0127219879,
          0.042320908,
          0.0120380177,
          0.0268259417,
          0.0366906138,
          0.1529519353,
          0.0290104841,
          0.0217047594,
          0.0147419515,
          0.0576175751,
          0.0114433973,
          0.5041444339,
          0.2968622513,
          0.3009920165,
          0.228325794,
          0.0366906138,
          0.02658,
          0.0110803882,
          0.0128989683,
          0.0640552863,
          0.0969515991,
          0.0286124454,
          0.0327005439,
          0.0122054832,
          0.0363542322,
          0.1144339731,
          0.0325502986,
          3.1372922496,
          0.152249185,
          0.1283970296,
          0.0052547853,
          0.2609486033,
          0.708851033,
          0.0888290416,
          0.0231502122,
          0.0780827277,
          0.0595052079,
          0.0073207399,
          0.0249203981,
          0.0708851033,
          0.2221032822,
          0.0504144434,
          0.024019003,
          0.0384197891,
          0.1508533561,
          0.0896509666,
          0.620233153,
          0.138852907,
          0.0058150704,
          0.0930154254,
          0.1565146436,
          0.0892390579,
          0.0504144434,
          0.0226232491,
          0.1248978541,
          0.1067959975,
          0.0152951935,
          0.0202560601,
          0.0123184191,
          0.0283501249,
          0.0488151892,
          0.0646479826,
          0.008366715,
          0.0080270317,
          0.0539454694,
          0.3166321257,
          0.1979497587,
          0.5682703234,
          0.1716148941,
          0.1382149359,
          0.0242412481,
          0.0110803882,
          0.022108281,
          0.0160160338,
          0.0096506147,
          0.0557898221,
          0.052547853,
          0.0107288945,
          0.0164647438,
          1.1927652464,
          0.4836764882,
          0.0718712133,
          0.0366906138,
          0.0086807046,
          0.2561857545,
          0.1797028549,
          0.010388551,
          0.0166170902,
          0.0267026877,
          0.0057883526,
          0.0363542322,
          0.0443154309,
          0.0236894499,
          0.208235599,
          0.3720103103,
          0.0695913044,
          0.6317641482,
          0.0421264611,
          0.1550797087,
          0.0280902094,
          0.0060611492,
          0.0361871997,
          0.3754524794,
          0.0360209346,
          0.040230458,
          0.0179702855,
          0.0033616692,
          0.0589596608,
          0.0232570687,
          0.6317641482,
          0.0235806068,
          0.5064714588,
          0.0925880583,
          0.0960627415,
          0.2025606009,
          0.0152951935,
          0.0101054342,
          0.0183888672,
          0.0375452479,
          0.0728710415,
          0.0057883526,
          0.1170994827,
          0.1638909515,
          0.1447288051,
          0.0237987955,
          0.004904051,
          0.0074912618,
          0.0220067027,
          0.0195233786,
          0.0511157782,
          0.0019794976,
          0.0062023315,
          0.0394961694,
          0.1474195145,
          0.0038419789,
          0.0069912523,
          0.0925880583,
          0.0122618211,
          0.0139493823,
          0.1586919792,
          0.2446554962,
          0.0353634784,
          0.0151549664,
          0.0068007213,
          0.0280902094,
          0.0309424699,
          0.0064647983,
          0.1108038821,
          1.3949382293,
          0.2469192656,
          0.0334622374,
          0.0483676488,
          0.0766575574,
          0.0573528464,
          0.0197949759,
          0.0167708462,
          0.0125474356,
          0.2053784995,
          0.0169260249,
          0.1077841687,
          0.0260948603,
          0.0174805453,
          0.0291443905,
          0.0075605776,
          0.0117099483,
          0.0921626549,
          0.0088014652,
          0.1024601475,
          0.0146067964,
          0.0336166921,
          0.0060891262,
          0.0417402433,
          0.0157962856,
          0.0506471459,
          0.0501828101,
          0.0738847787,
          0.057089334,
          0.057089334,
          0.0259749653,
          5.2790402903,
          0.6769474811,
          0.1764229081,
          0.0523064176,
          0.0110803882,
          0.2034955781,
          0.0518268695,
          0.0283501249,
          0.5064714588,
          0.095182033,
          0.0319561887,
          0.0592318063,
          0.0614546821,
          0.0040230458,
          0.1087814834,
          0.0992098919,
          0.0098754064,
          0.0086011194,
          0.0459785188,
          0.0174002295,
          0.1226182113,
          0.1838886721,
          0.0689532874,
          0.2072788434,
          0.1067959975,
          0.0614546821,
          0.0791689667,
          0.0987540639,
          0.3455850738,
          0.008405334,
          0.0634680239,
          0.0343997255,
          0.01034082,
          0.0236894499,
          0.057089334,
          0.0451393163,
          0.0135692229,
          0.0303777061,
          0.0268259417,
          0.1394938229,
          0.0210162379,
          0.6959130436,
          0.1278070988,
          0.0109283596,
          0.02658,
          0.0969515991,
          0.086011194,
          0.0407901194,
          0.1067959975,
          0.0296862251,
          0.0176422908,
          0.096506147,
          0.0327005439,
          0.0171614894,
          0.0251509837,
          0.0802703167,
          0.0339277435,
          0.021804944,
          0.0039861623,
          0.0340843469,
          0.0101054342,
          0.0175612318,
          0.0523064176,
          0.0155795524,
          0.0065246163,
          0.67383719,
          0.3771854893,
          0.4116754573,
          0.079534394,
          0.0411675457,
          0.0167708462,
          0.0350392641,
          0.0092162655,
          0.0069912523,
          0.0360209346,
          0.0251509837,
          0.0030658788,
          0.0031228777,
          0.0040602706,
          0.0092162655,
          0.0082140053,
          0.0759547566,
          0.0728710415,
          0.1579628558,
          0.2480589932,
          0.0334622374,
          0.0210162379,
          0.0821400526,
          0.0211132445,
          0.0160160338,
          0.0149470324,
          0.0160160338,
          0.1283970296,
          0.009830033,
          0.1460679643,
          0.0095621373,
          0.0101520787,
          0.0355267088,
          0.0073545309,
          0.011982708,
          0.0239086457,
          0.0457672667,
          0.2007035141,
          0.135692229,
          0.0608912622,
          0.1187284988,
          0.0258556212,
          0.0291443905,
          0.058150704,
          0.0127219879,
          0.0190789723,
          0.022108281,
          0.0185590173,
          0.031228777,
          0.0137579896,
          0.0197949759,
          0.040978398,
          0.0136318556,
          0.0153657929,
          0.0060611492,
          0.0319561887,
          0.0183888672,
          0.0054771543,
          0.0093444765,
          0.0419329075,
          0.0169260249,
          0.1198270801,
          0.0470494961,
          0.0904804968,
          0.0169260249,
          0.1248978541,
          0.0105816886,
          0.0306587876,
          0.1594244681,
          0.2272767323,
          0.0908981358,
          0.0273246732,
          0.0350392641,
          0.0126635356,
          0.0075605776,
          0.1677084622
         ],
         "xaxis": "x",
         "y": [
          16.08,
          17.64,
          19.51,
          18.39,
          25.3,
          24.7,
          20.59,
          26.2,
          26.39,
          25.8,
          27.4,
          21.89,
          25.56,
          23.67,
          26.89,
          23.8,
          22.54,
          21.77,
          26.04,
          25.25,
          26.86,
          21.59,
          21.99,
          25.89,
          20.82,
          19.26,
          27.5,
          23.82,
          19.02,
          24.19,
          25.17,
          24.85,
          25.73,
          21.18,
          21.49,
          20.39,
          20.1,
          23.77,
          26.2,
          25.4,
          24.6,
          26.4,
          22.47,
          25.23,
          23.8,
          25.18,
          26.86,
          21.15,
          24.3,
          20.42,
          27.64,
          26.05,
          26.58,
          18.93,
          17.13,
          27.53,
          27.27,
          24.75,
          28.92,
          26.48,
          21.13,
          26.13,
          22.98,
          25.81,
          25.86,
          25.16,
          27.13,
          26.15,
          25.94,
          20.1,
          25,
          25.12,
          23.3,
          23.75,
          26.5,
          27.85,
          26.97,
          20.55,
          27.02,
          25.38,
          26.402,
          21.3,
          28.5,
          23.5,
          18.72,
          23.67,
          27.4,
          25.9,
          27.18,
          23.13,
          24.26,
          22.87,
          25.27,
          24.72,
          25.6,
          26.76,
          25.58,
          25.82,
          18.66,
          19.09,
          21.08,
          20.86,
          21.88,
          23.6,
          24.49,
          23.33,
          21.43,
          22.43,
          23.24,
          25.78,
          22.91,
          26.31,
          24.18,
          20.66,
          22.66,
          16.23,
          24.8,
          26.8,
          24.11,
          23.82,
          21.97,
          26.2,
          27.2,
          26.7,
          25.48,
          23.41,
          27.49,
          25.77,
          23.66,
          21.03,
          24.85,
          18.09,
          23.57,
          23.1,
          19.94,
          23.45,
          23.6,
          18.79,
          24.8,
          26.98,
          23.43,
          24.38,
          27.95,
          25.02,
          30.66,
          28.99,
          24.19,
          23.49,
          19.95,
          17.47,
          19.39,
          18.06,
          23.64,
          24.7,
          18.57,
          20.25,
          26.5,
          31.2,
          26.6,
          23.99,
          26.72,
          24.98,
          24.3,
          21.2,
          24.81,
          25.44,
          26.28,
          23.32,
          26.83,
          18.61,
          19.76,
          19.73,
          20.33,
          24.3,
          25,
          26.9,
          26.57,
          23.09,
          22.19,
          24.84,
          24.55,
          26.69,
          24.32,
          21.83,
          24.56,
          14.64,
          21.21,
          21.58,
          28.52,
          20.04,
          17.87,
          22.38,
          25.3,
          22.66,
          23.25,
          27.8,
          25.14,
          22.87,
          20.39,
          23.61,
          25.22,
          24.2,
          21.23,
          22.36,
          18.16,
          21.41,
          28.3,
          22.28,
          21.15,
          22.37,
          23.61,
          25.35,
          21.64,
          21.98,
          26.2,
          25.59,
          26.67,
          24.86,
          23.68,
          23.07,
          27.51,
          27.6,
          23.463,
          19.62,
          20.64,
          18.35,
          20.95,
          21.42,
          25.2,
          26.9,
          25.4,
          26.1,
          27.2,
          23.39,
          23.52,
          26.97,
          26.04,
          16.74,
          18.7,
          22.84,
          24.3,
          27.43,
          20.08,
          20.85,
          27.04,
          26.02,
          24.99,
          28.31,
          24.32,
          23.89,
          25.25,
          20.53,
          19.27,
          22.91,
          18.12,
          24,
          21.17,
          24.88,
          28.21,
          24.33,
          19.25,
          24.34,
          24.1,
          25.85,
          29.49,
          23.27,
          25.29,
          18.12,
          25.26,
          18.6,
          22.29,
          22.21,
          20.59,
          26.2,
          27.1,
          25.8,
          24.25,
          22.81,
          28.31,
          21.78,
          21.05,
          21.32,
          25.24,
          28.67,
          27.75,
          25.41,
          25.67,
          23.58,
          30.64,
          28.16,
          24.14,
          21.28,
          29.2,
          27.9,
          22.29,
          26.68,
          26.4,
          21.12,
          20.18,
          24.38,
          26.22,
          27.96,
          24.88,
          24.67,
          28.07,
          21.9,
          16.4,
          20.16,
          24.5,
          23.7,
          22.7,
          23.33,
          25.64,
          26,
          26.63,
          20.56,
          25.98,
          21.96,
          25.04,
          25.91,
          24.8,
          27.73,
          26.78,
          22.3,
          27.4,
          22.07,
          26.3,
          24.49,
          28.2,
          24.02,
          26.13,
          23.6,
          23.62,
          22.78,
          23.34,
          23.34,
          25.05,
          13.51,
          17.97,
          20.89,
          23.53,
          26.9,
          20.58,
          23.55,
          24.86,
          18.6,
          22.23,
          24.6,
          23.26,
          23.18,
          29.1,
          21.94,
          22.14,
          27.15,
          27.45,
          23.81,
          25.92,
          21.68,
          20.8,
          22.93,
          20.54,
          21.98,
          23.18,
          22.63,
          22.15,
          19.43,
          27.5,
          23.11,
          24.44,
          27.05,
          25.25,
          23.34,
          23.85,
          26.46,
          24.71,
          24.98,
          21.4,
          25.51,
          17.91,
          21.59,
          26.93,
          25,
          22.19,
          22.45,
          24.07,
          21.98,
          24.76,
          25.89,
          22.2,
          24.55,
          25.95,
          25.12,
          22.6,
          24.47,
          25.43,
          29.12,
          24.46,
          27.1,
          25.9,
          23.53,
          26.16,
          28.05,
          17.98,
          19.24,
          19.05,
          22.62,
          24.05,
          26,
          24.4,
          27.3,
          27.9,
          24.34,
          25.12,
          29.69,
          29.65,
          29.08,
          27.3,
          27.55,
          22.72,
          22.81,
          21.13,
          20.15,
          24.5,
          25.51,
          22.55,
          25.5,
          26.1,
          26.25,
          26.1,
          21.58,
          27.16,
          21.3,
          27.22,
          27.09,
          24.37,
          27.79,
          26.73,
          25.23,
          23.82,
          20.61,
          21.46,
          23.2,
          21.75,
          25.06,
          24.8,
          23.3,
          26.6,
          25.72,
          25.4,
          25.78,
          24.65,
          26.43,
          25.64,
          24.06,
          26.45,
          26.19,
          28.21,
          24.6,
          25.8,
          28.43,
          27.27,
          24.01,
          25.98,
          21.73,
          23.76,
          22.34,
          25.98,
          21.64,
          27,
          24.69,
          21.11,
          20.34,
          22.33,
          24.94,
          24.4,
          26.61,
          27.73,
          21
         ],
         "yaxis": "y"
        }
       ],
       "layout": {
        "legend": {
         "tracegroupgap": 0
        },
        "template": {
         "data": {
          "bar": [
           {
            "error_x": {
             "color": "#2a3f5f"
            },
            "error_y": {
             "color": "#2a3f5f"
            },
            "marker": {
             "line": {
              "color": "#E5ECF6",
              "width": 0.5
             },
             "pattern": {
              "fillmode": "overlay",
              "size": 10,
              "solidity": 0.2
             }
            },
            "type": "bar"
           }
          ],
          "barpolar": [
           {
            "marker": {
             "line": {
              "color": "#E5ECF6",
              "width": 0.5
             },
             "pattern": {
              "fillmode": "overlay",
              "size": 10,
              "solidity": 0.2
             }
            },
            "type": "barpolar"
           }
          ],
          "carpet": [
           {
            "aaxis": {
             "endlinecolor": "#2a3f5f",
             "gridcolor": "white",
             "linecolor": "white",
             "minorgridcolor": "white",
             "startlinecolor": "#2a3f5f"
            },
            "baxis": {
             "endlinecolor": "#2a3f5f",
             "gridcolor": "white",
             "linecolor": "white",
             "minorgridcolor": "white",
             "startlinecolor": "#2a3f5f"
            },
            "type": "carpet"
           }
          ],
          "choropleth": [
           {
            "colorbar": {
             "outlinewidth": 0,
             "ticks": ""
            },
            "type": "choropleth"
           }
          ],
          "contour": [
           {
            "colorbar": {
             "outlinewidth": 0,
             "ticks": ""
            },
            "colorscale": [
             [
              0,
              "#0d0887"
             ],
             [
              0.1111111111111111,
              "#46039f"
             ],
             [
              0.2222222222222222,
              "#7201a8"
             ],
             [
              0.3333333333333333,
              "#9c179e"
             ],
             [
              0.4444444444444444,
              "#bd3786"
             ],
             [
              0.5555555555555556,
              "#d8576b"
             ],
             [
              0.6666666666666666,
              "#ed7953"
             ],
             [
              0.7777777777777778,
              "#fb9f3a"
             ],
             [
              0.8888888888888888,
              "#fdca26"
             ],
             [
              1,
              "#f0f921"
             ]
            ],
            "type": "contour"
           }
          ],
          "contourcarpet": [
           {
            "colorbar": {
             "outlinewidth": 0,
             "ticks": ""
            },
            "type": "contourcarpet"
           }
          ],
          "heatmap": [
           {
            "colorbar": {
             "outlinewidth": 0,
             "ticks": ""
            },
            "colorscale": [
             [
              0,
              "#0d0887"
             ],
             [
              0.1111111111111111,
              "#46039f"
             ],
             [
              0.2222222222222222,
              "#7201a8"
             ],
             [
              0.3333333333333333,
              "#9c179e"
             ],
             [
              0.4444444444444444,
              "#bd3786"
             ],
             [
              0.5555555555555556,
              "#d8576b"
             ],
             [
              0.6666666666666666,
              "#ed7953"
             ],
             [
              0.7777777777777778,
              "#fb9f3a"
             ],
             [
              0.8888888888888888,
              "#fdca26"
             ],
             [
              1,
              "#f0f921"
             ]
            ],
            "type": "heatmap"
           }
          ],
          "heatmapgl": [
           {
            "colorbar": {
             "outlinewidth": 0,
             "ticks": ""
            },
            "colorscale": [
             [
              0,
              "#0d0887"
             ],
             [
              0.1111111111111111,
              "#46039f"
             ],
             [
              0.2222222222222222,
              "#7201a8"
             ],
             [
              0.3333333333333333,
              "#9c179e"
             ],
             [
              0.4444444444444444,
              "#bd3786"
             ],
             [
              0.5555555555555556,
              "#d8576b"
             ],
             [
              0.6666666666666666,
              "#ed7953"
             ],
             [
              0.7777777777777778,
              "#fb9f3a"
             ],
             [
              0.8888888888888888,
              "#fdca26"
             ],
             [
              1,
              "#f0f921"
             ]
            ],
            "type": "heatmapgl"
           }
          ],
          "histogram": [
           {
            "marker": {
             "pattern": {
              "fillmode": "overlay",
              "size": 10,
              "solidity": 0.2
             }
            },
            "type": "histogram"
           }
          ],
          "histogram2d": [
           {
            "colorbar": {
             "outlinewidth": 0,
             "ticks": ""
            },
            "colorscale": [
             [
              0,
              "#0d0887"
             ],
             [
              0.1111111111111111,
              "#46039f"
             ],
             [
              0.2222222222222222,
              "#7201a8"
             ],
             [
              0.3333333333333333,
              "#9c179e"
             ],
             [
              0.4444444444444444,
              "#bd3786"
             ],
             [
              0.5555555555555556,
              "#d8576b"
             ],
             [
              0.6666666666666666,
              "#ed7953"
             ],
             [
              0.7777777777777778,
              "#fb9f3a"
             ],
             [
              0.8888888888888888,
              "#fdca26"
             ],
             [
              1,
              "#f0f921"
             ]
            ],
            "type": "histogram2d"
           }
          ],
          "histogram2dcontour": [
           {
            "colorbar": {
             "outlinewidth": 0,
             "ticks": ""
            },
            "colorscale": [
             [
              0,
              "#0d0887"
             ],
             [
              0.1111111111111111,
              "#46039f"
             ],
             [
              0.2222222222222222,
              "#7201a8"
             ],
             [
              0.3333333333333333,
              "#9c179e"
             ],
             [
              0.4444444444444444,
              "#bd3786"
             ],
             [
              0.5555555555555556,
              "#d8576b"
             ],
             [
              0.6666666666666666,
              "#ed7953"
             ],
             [
              0.7777777777777778,
              "#fb9f3a"
             ],
             [
              0.8888888888888888,
              "#fdca26"
             ],
             [
              1,
              "#f0f921"
             ]
            ],
            "type": "histogram2dcontour"
           }
          ],
          "mesh3d": [
           {
            "colorbar": {
             "outlinewidth": 0,
             "ticks": ""
            },
            "type": "mesh3d"
           }
          ],
          "parcoords": [
           {
            "line": {
             "colorbar": {
              "outlinewidth": 0,
              "ticks": ""
             }
            },
            "type": "parcoords"
           }
          ],
          "pie": [
           {
            "automargin": true,
            "type": "pie"
           }
          ],
          "scatter": [
           {
            "fillpattern": {
             "fillmode": "overlay",
             "size": 10,
             "solidity": 0.2
            },
            "type": "scatter"
           }
          ],
          "scatter3d": [
           {
            "line": {
             "colorbar": {
              "outlinewidth": 0,
              "ticks": ""
             }
            },
            "marker": {
             "colorbar": {
              "outlinewidth": 0,
              "ticks": ""
             }
            },
            "type": "scatter3d"
           }
          ],
          "scattercarpet": [
           {
            "marker": {
             "colorbar": {
              "outlinewidth": 0,
              "ticks": ""
             }
            },
            "type": "scattercarpet"
           }
          ],
          "scattergeo": [
           {
            "marker": {
             "colorbar": {
              "outlinewidth": 0,
              "ticks": ""
             }
            },
            "type": "scattergeo"
           }
          ],
          "scattergl": [
           {
            "marker": {
             "colorbar": {
              "outlinewidth": 0,
              "ticks": ""
             }
            },
            "type": "scattergl"
           }
          ],
          "scattermapbox": [
           {
            "marker": {
             "colorbar": {
              "outlinewidth": 0,
              "ticks": ""
             }
            },
            "type": "scattermapbox"
           }
          ],
          "scatterpolar": [
           {
            "marker": {
             "colorbar": {
              "outlinewidth": 0,
              "ticks": ""
             }
            },
            "type": "scatterpolar"
           }
          ],
          "scatterpolargl": [
           {
            "marker": {
             "colorbar": {
              "outlinewidth": 0,
              "ticks": ""
             }
            },
            "type": "scatterpolargl"
           }
          ],
          "scatterternary": [
           {
            "marker": {
             "colorbar": {
              "outlinewidth": 0,
              "ticks": ""
             }
            },
            "type": "scatterternary"
           }
          ],
          "surface": [
           {
            "colorbar": {
             "outlinewidth": 0,
             "ticks": ""
            },
            "colorscale": [
             [
              0,
              "#0d0887"
             ],
             [
              0.1111111111111111,
              "#46039f"
             ],
             [
              0.2222222222222222,
              "#7201a8"
             ],
             [
              0.3333333333333333,
              "#9c179e"
             ],
             [
              0.4444444444444444,
              "#bd3786"
             ],
             [
              0.5555555555555556,
              "#d8576b"
             ],
             [
              0.6666666666666666,
              "#ed7953"
             ],
             [
              0.7777777777777778,
              "#fb9f3a"
             ],
             [
              0.8888888888888888,
              "#fdca26"
             ],
             [
              1,
              "#f0f921"
             ]
            ],
            "type": "surface"
           }
          ],
          "table": [
           {
            "cells": {
             "fill": {
              "color": "#EBF0F8"
             },
             "line": {
              "color": "white"
             }
            },
            "header": {
             "fill": {
              "color": "#C8D4E3"
             },
             "line": {
              "color": "white"
             }
            },
            "type": "table"
           }
          ]
         },
         "layout": {
          "annotationdefaults": {
           "arrowcolor": "#2a3f5f",
           "arrowhead": 0,
           "arrowwidth": 1
          },
          "autotypenumbers": "strict",
          "coloraxis": {
           "colorbar": {
            "outlinewidth": 0,
            "ticks": ""
           }
          },
          "colorscale": {
           "diverging": [
            [
             0,
             "#8e0152"
            ],
            [
             0.1,
             "#c51b7d"
            ],
            [
             0.2,
             "#de77ae"
            ],
            [
             0.3,
             "#f1b6da"
            ],
            [
             0.4,
             "#fde0ef"
            ],
            [
             0.5,
             "#f7f7f7"
            ],
            [
             0.6,
             "#e6f5d0"
            ],
            [
             0.7,
             "#b8e186"
            ],
            [
             0.8,
             "#7fbc41"
            ],
            [
             0.9,
             "#4d9221"
            ],
            [
             1,
             "#276419"
            ]
           ],
           "sequential": [
            [
             0,
             "#0d0887"
            ],
            [
             0.1111111111111111,
             "#46039f"
            ],
            [
             0.2222222222222222,
             "#7201a8"
            ],
            [
             0.3333333333333333,
             "#9c179e"
            ],
            [
             0.4444444444444444,
             "#bd3786"
            ],
            [
             0.5555555555555556,
             "#d8576b"
            ],
            [
             0.6666666666666666,
             "#ed7953"
            ],
            [
             0.7777777777777778,
             "#fb9f3a"
            ],
            [
             0.8888888888888888,
             "#fdca26"
            ],
            [
             1,
             "#f0f921"
            ]
           ],
           "sequentialminus": [
            [
             0,
             "#0d0887"
            ],
            [
             0.1111111111111111,
             "#46039f"
            ],
            [
             0.2222222222222222,
             "#7201a8"
            ],
            [
             0.3333333333333333,
             "#9c179e"
            ],
            [
             0.4444444444444444,
             "#bd3786"
            ],
            [
             0.5555555555555556,
             "#d8576b"
            ],
            [
             0.6666666666666666,
             "#ed7953"
            ],
            [
             0.7777777777777778,
             "#fb9f3a"
            ],
            [
             0.8888888888888888,
             "#fdca26"
            ],
            [
             1,
             "#f0f921"
            ]
           ]
          },
          "colorway": [
           "#636efa",
           "#EF553B",
           "#00cc96",
           "#ab63fa",
           "#FFA15A",
           "#19d3f3",
           "#FF6692",
           "#B6E880",
           "#FF97FF",
           "#FECB52"
          ],
          "font": {
           "color": "#2a3f5f"
          },
          "geo": {
           "bgcolor": "white",
           "lakecolor": "white",
           "landcolor": "#E5ECF6",
           "showlakes": true,
           "showland": true,
           "subunitcolor": "white"
          },
          "hoverlabel": {
           "align": "left"
          },
          "hovermode": "closest",
          "mapbox": {
           "style": "light"
          },
          "paper_bgcolor": "white",
          "plot_bgcolor": "#E5ECF6",
          "polar": {
           "angularaxis": {
            "gridcolor": "white",
            "linecolor": "white",
            "ticks": ""
           },
           "bgcolor": "#E5ECF6",
           "radialaxis": {
            "gridcolor": "white",
            "linecolor": "white",
            "ticks": ""
           }
          },
          "scene": {
           "xaxis": {
            "backgroundcolor": "#E5ECF6",
            "gridcolor": "white",
            "gridwidth": 2,
            "linecolor": "white",
            "showbackground": true,
            "ticks": "",
            "zerolinecolor": "white"
           },
           "yaxis": {
            "backgroundcolor": "#E5ECF6",
            "gridcolor": "white",
            "gridwidth": 2,
            "linecolor": "white",
            "showbackground": true,
            "ticks": "",
            "zerolinecolor": "white"
           },
           "zaxis": {
            "backgroundcolor": "#E5ECF6",
            "gridcolor": "white",
            "gridwidth": 2,
            "linecolor": "white",
            "showbackground": true,
            "ticks": "",
            "zerolinecolor": "white"
           }
          },
          "shapedefaults": {
           "line": {
            "color": "#2a3f5f"
           }
          },
          "ternary": {
           "aaxis": {
            "gridcolor": "white",
            "linecolor": "white",
            "ticks": ""
           },
           "baxis": {
            "gridcolor": "white",
            "linecolor": "white",
            "ticks": ""
           },
           "bgcolor": "#E5ECF6",
           "caxis": {
            "gridcolor": "white",
            "linecolor": "white",
            "ticks": ""
           }
          },
          "title": {
           "x": 0.05
          },
          "xaxis": {
           "automargin": true,
           "gridcolor": "white",
           "linecolor": "white",
           "ticks": "",
           "title": {
            "standoff": 15
           },
           "zerolinecolor": "white",
           "zerolinewidth": 2
          },
          "yaxis": {
           "automargin": true,
           "gridcolor": "white",
           "linecolor": "white",
           "ticks": "",
           "title": {
            "standoff": 15
           },
           "zerolinecolor": "white",
           "zerolinewidth": 2
          }
         }
        },
        "title": {
         "text": "Min Diameter vs Absolute Magnitude"
        },
        "xaxis": {
         "anchor": "y",
         "domain": [
          0,
          1
         ],
         "title": {
          "text": "Min_diameter"
         }
        },
        "yaxis": {
         "anchor": "x",
         "domain": [
          0,
          1
         ],
         "title": {
          "text": "Abs_magnitude"
         }
        }
       }
      }
     },
     "metadata": {},
     "output_type": "display_data"
    },
    {
     "data": {
      "application/vnd.plotly.v1+json": {
       "config": {
        "plotlyServerURL": "https://plot.ly"
       },
       "data": [
        {
         "hovertemplate": "Max_diameter=%{x}<br>Abs_magnitude=%{y}<extra></extra>",
         "legendgroup": "",
         "marker": {
          "color": "#636efa",
          "symbol": "circle"
         },
         "mode": "markers",
         "name": "",
         "orientation": "v",
         "showlegend": false,
         "type": "scatter",
         "x": [
          3.6144313359,
          1.7621382518,
          0.744800533,
          1.2474983468,
          0.0517654482,
          0.0682401509,
          0.4529392731,
          0.0342010925,
          0.0313357417,
          0.0411187571,
          0.0196806745,
          0.2489086439,
          0.0459240286,
          0.1096579137,
          0.0248908644,
          0.1032856481,
          0.1845185269,
          0.2630510131,
          0.0368162863,
          0.0529712204,
          0.0252371308,
          0.285785361,
          0.2377059096,
          0.0394493615,
          0.4074177807,
          0.8356799428,
          0.0187948982,
          0.1023387195,
          0.933340215,
          0.0863057993,
          0.0549591464,
          0.0636854144,
          0.0424658654,
          0.3451755128,
          0.2992540101,
          0.4966380371,
          0.5675968529,
          0.1047224945,
          0.0342010925,
          0.0494356193,
          0.0714562102,
          0.0311917671,
          0.1905636132,
          0.0534613571,
          0.1032856481,
          0.0547066321,
          0.0252371308,
          0.3499773825,
          0.0820427065,
          0.4898239078,
          0.0176213825,
          0.0366471308,
          0.0287104486,
          0.9728367737,
          2.2286402963,
          0.0185370226,
          0.0208948847,
          0.0666868155,
          0.0097732718,
          0.0300635304,
          0.3532156834,
          0.0353215683,
          0.1506745763,
          0.0409298336,
          0.0399981568,
          0.0552128263,
          0.022286403,
          0.0349977383,
          0.0385513844,
          0.5675968529,
          0.0594346868,
          0.0562393094,
          0.130028927,
          0.1056914799,
          0.0297879063,
          0.0159970528,
          0.0239905375,
          0.4613600429,
          0.0234444462,
          0.0498930414,
          0.0311630516,
          0.3266178974,
          0.0118587791,
          0.1185877909,
          1.071617948,
          0.1096579137,
          0.0196806745,
          0.0392681082,
          0.0217791025,
          0.1406176963,
          0.0835679943,
          0.1585039096,
          0.0524855773,
          0.0676145215,
          0.0450858206,
          0.0264265201,
          0.0455029946,
          0.0407417781,
          1.1016407159,
          0.9037326626,
          0.3614431336,
          0.3999815682,
          0.250057554,
          0.1132504611,
          0.0751692087,
          0.1282448632,
          0.3076379996,
          0.1941064553,
          0.1336718562,
          0.0414992243,
          0.1556108872,
          0.0325117225,
          0.0867041687,
          0.4385710684,
          0.1745982871,
          3.3731835891,
          0.0651688382,
          0.0259441818,
          0.0895447192,
          0.1023387195,
          0.2399053753,
          0.0342010925,
          0.0215794305,
          0.0271668934,
          0.0476474846,
          0.1236061213,
          0.0188816516,
          0.041690776,
          0.1101640716,
          0.3698622257,
          0.0636854144,
          1.4323197447,
          0.1148259319,
          0.1425738833,
          0.6109982675,
          0.1213500554,
          0.1132504611,
          1.0376239294,
          0.0651688382,
          0.023880311,
          0.1224728936,
          0.0790751417,
          0.0152770668,
          0.0588897864,
          0.0043857107,
          0.0094632427,
          0.0863057993,
          0.1191351672,
          0.6081909854,
          1.9056361323,
          0.7871182442,
          1.4522452972,
          0.1111834072,
          0.0682401509,
          1.1482593191,
          0.5297122041,
          0.0297879063,
          0.0034201092,
          0.0284472297,
          0.0946324271,
          0.0269178258,
          0.0599846292,
          0.0820427065,
          0.3420109247,
          0.0648694146,
          0.0485333175,
          0.0329640056,
          0.1288368146,
          0.0255882143,
          1.1273012246,
          0.6638041738,
          0.6730386097,
          0.5105519964,
          0.0820427065,
          0.0594346868,
          0.0247765013,
          0.02884297,
          0.1432319745,
          0.2167903661,
          0.0639793729,
          0.0731206391,
          0.0272922901,
          0.0812905344,
          0.2558821427,
          0.0727846803,
          7.0151987353,
          0.3404395273,
          0.2871044863,
          0.0117500571,
          0.5834988155,
          1.5850390958,
          0.1986277755,
          0.0517654482,
          0.1745982871,
          0.1330576898,
          0.016369672,
          0.0557237043,
          0.1585039096,
          0.4966380371,
          0.1127301225,
          0.0537081235,
          0.0859092601,
          0.3373183589,
          0.2004656557,
          1.3868834919,
          0.310484539,
          0.0130028927,
          0.2079888141,
          0.3499773825,
          0.1995445996,
          0.1127301225,
          0.0505871228,
          0.2792800919,
          0.2388031102,
          0.0342010925,
          0.0452939273,
          0.0275448225,
          0.0633928065,
          0.1091540813,
          0.1445572836,
          0.0187085435,
          0.0179489885,
          0.1206257367,
          0.708010957,
          0.4426291165,
          1.2706910727,
          0.3837425691,
          0.3090579921,
          0.0542050786,
          0.0247765013,
          0.0494356193,
          0.0358129403,
          0.0215794305,
          0.1247498347,
          0.1175005715,
          0.0239905375,
          0.0368162863,
          2.6671041722,
          1.0815335068,
          0.1607089186,
          0.0820427065,
          0.0194106455,
          0.5728487619,
          0.4018277992,
          0.0232295062,
          0.0371569432,
          0.0597090249,
          0.0129431498,
          0.0812905344,
          0.099092316,
          0.0529712204,
          0.4656289548,
          0.8318403423,
          0.1556108872,
          1.4126675811,
          0.0941976306,
          0.3467687706,
          0.0628116177,
          0.0135531417,
          0.0809170384,
          0.8395372662,
          0.0805452583,
          0.0899580388,
          0.0401827799,
          0.0075169209,
          0.1318378096,
          0.0520043867,
          1.4126675811,
          0.0527278398,
          1.1325046106,
          0.2070331923,
          0.2148028201,
          0.4529392731,
          0.0342010925,
          0.0225964377,
          0.0411187571,
          0.0839537266,
          0.1629446024,
          0.0129431498,
          0.2618424035,
          0.3664713084,
          0.3236234466,
          0.0532157244,
          0.0109657914,
          0.0167509707,
          0.0492084832,
          0.0436556017,
          0.1142983547,
          0.0044262912,
          0.0138688349,
          0.0883161196,
          0.3296400556,
          0.008590926,
          0.0156329154,
          0.2070331923,
          0.0274182656,
          0.0311917671,
          0.3548460529,
          0.5470663205,
          0.0790751417,
          0.033887535,
          0.0152068751,
          0.0628116177,
          0.069189466,
          0.0144557284,
          0.2477650126,
          3.1191767052,
          0.5521282628,
          0.0748238376,
          0.1081533507,
          0.1714115092,
          0.1282448632,
          0.0442629117,
          0.0375007522,
          0.028056919,
          0.459240286,
          0.0378477424,
          0.2410127282,
          0.0583498816,
          0.0390876876,
          0.0651688382,
          0.0169059655,
          0.0261842403,
          0.2060819612,
          0.0196806745,
          0.2291078547,
          0.0326617897,
          0.0751692087,
          0.0136157002,
          0.0933340215,
          0.0353215683,
          0.1132504611,
          0.1122121746,
          0.1652113876,
          0.1276556316,
          0.1276556316,
          0.0580817882,
          11.8042929452,
          1.513700585,
          0.3944936153,
          0.1169607054,
          0.0247765013,
          0.4550299458,
          0.1158884032,
          0.0633928065,
          1.1325046106,
          0.212833496,
          0.0714562102,
          0.1324463452,
          0.1374168468,
          0.0089958039,
          0.2432427915,
          0.2218400624,
          0.02208208,
          0.0192326877,
          0.1028110936,
          0.038908096,
          0.2741826558,
          0.411187571,
          0.154184238,
          0.4634895841,
          0.2388031102,
          0.1374168468,
          0.1770271912,
          0.2208207999,
          0.7727517171,
          0.0187948982,
          0.1419188158,
          0.0769201245,
          0.0231227764,
          0.0529712204,
          0.1276556316,
          0.1009345797,
          0.0303417048,
          0.0679266159,
          0.0599846292,
          0.3119176705,
          0.0469937366,
          1.5561088719,
          0.285785361,
          0.0244365549,
          0.0594346868,
          0.2167903661,
          0.1923268766,
          0.0912094798,
          0.2388031102,
          0.0663804174,
          0.0394493615,
          0.2157943048,
          0.0731206391,
          0.0383742569,
          0.0562393094,
          0.1794898848,
          0.0758647409,
          0.0487573371,
          0.0089133299,
          0.0762149166,
          0.0225964377,
          0.0392681082,
          0.1169607054,
          0.0348369383,
          0.0145894856,
          1.5067457626,
          0.8434123941,
          0.9205343072,
          0.1778443116,
          0.0920534307,
          0.0375007522,
          0.0783501764,
          0.0206081961,
          0.0156329154,
          0.0805452583,
          0.0562393094,
          0.0068555133,
          0.0069829668,
          0.009079041,
          0.0206081961,
          0.0183670741,
          0.1698399991,
          0.1629446024,
          0.3532156834,
          0.5546767711,
          0.0748238376,
          0.0469937366,
          0.1836707413,
          0.0472106499,
          0.0358129403,
          0.0334225806,
          0.0358129403,
          0.2871044863,
          0.0219806221,
          0.3266178974,
          0.0213815891,
          0.0227007381,
          0.079440136,
          0.016445231,
          0.0267941497,
          0.0534613571,
          0.1023387195,
          0.4487867009,
          0.303417048,
          0.1361570015,
          0.2654849942,
          0.0578149266,
          0.0651688382,
          0.130028927,
          0.0284472297,
          0.0426618789,
          0.0494356193,
          0.0414992243,
          0.0698296682,
          0.0307638,
          0.0442629117,
          0.0916304836,
          0.0304817558,
          0.0343589575,
          0.0135531417,
          0.0714562102,
          0.0411187571,
          0.0122472894,
          0.0208948847,
          0.0937648318,
          0.0378477424,
          0.2679414966,
          0.1052058716,
          0.2023205415,
          0.0378477424,
          0.2792800919,
          0.023661375,
          0.0685551332,
          0.3564839479,
          0.5082062231,
          0.2032544107,
          0.0610998267,
          0.0783501764,
          0.0283165265,
          0.0169059655,
          0.3750075218
         ],
         "xaxis": "x",
         "y": [
          16.08,
          17.64,
          19.51,
          18.39,
          25.3,
          24.7,
          20.59,
          26.2,
          26.39,
          25.8,
          27.4,
          21.89,
          25.56,
          23.67,
          26.89,
          23.8,
          22.54,
          21.77,
          26.04,
          25.25,
          26.86,
          21.59,
          21.99,
          25.89,
          20.82,
          19.26,
          27.5,
          23.82,
          19.02,
          24.19,
          25.17,
          24.85,
          25.73,
          21.18,
          21.49,
          20.39,
          20.1,
          23.77,
          26.2,
          25.4,
          24.6,
          26.4,
          22.47,
          25.23,
          23.8,
          25.18,
          26.86,
          21.15,
          24.3,
          20.42,
          27.64,
          26.05,
          26.58,
          18.93,
          17.13,
          27.53,
          27.27,
          24.75,
          28.92,
          26.48,
          21.13,
          26.13,
          22.98,
          25.81,
          25.86,
          25.16,
          27.13,
          26.15,
          25.94,
          20.1,
          25,
          25.12,
          23.3,
          23.75,
          26.5,
          27.85,
          26.97,
          20.55,
          27.02,
          25.38,
          26.402,
          21.3,
          28.5,
          23.5,
          18.72,
          23.67,
          27.4,
          25.9,
          27.18,
          23.13,
          24.26,
          22.87,
          25.27,
          24.72,
          25.6,
          26.76,
          25.58,
          25.82,
          18.66,
          19.09,
          21.08,
          20.86,
          21.88,
          23.6,
          24.49,
          23.33,
          21.43,
          22.43,
          23.24,
          25.78,
          22.91,
          26.31,
          24.18,
          20.66,
          22.66,
          16.23,
          24.8,
          26.8,
          24.11,
          23.82,
          21.97,
          26.2,
          27.2,
          26.7,
          25.48,
          23.41,
          27.49,
          25.77,
          23.66,
          21.03,
          24.85,
          18.09,
          23.57,
          23.1,
          19.94,
          23.45,
          23.6,
          18.79,
          24.8,
          26.98,
          23.43,
          24.38,
          27.95,
          25.02,
          30.66,
          28.99,
          24.19,
          23.49,
          19.95,
          17.47,
          19.39,
          18.06,
          23.64,
          24.7,
          18.57,
          20.25,
          26.5,
          31.2,
          26.6,
          23.99,
          26.72,
          24.98,
          24.3,
          21.2,
          24.81,
          25.44,
          26.28,
          23.32,
          26.83,
          18.61,
          19.76,
          19.73,
          20.33,
          24.3,
          25,
          26.9,
          26.57,
          23.09,
          22.19,
          24.84,
          24.55,
          26.69,
          24.32,
          21.83,
          24.56,
          14.64,
          21.21,
          21.58,
          28.52,
          20.04,
          17.87,
          22.38,
          25.3,
          22.66,
          23.25,
          27.8,
          25.14,
          22.87,
          20.39,
          23.61,
          25.22,
          24.2,
          21.23,
          22.36,
          18.16,
          21.41,
          28.3,
          22.28,
          21.15,
          22.37,
          23.61,
          25.35,
          21.64,
          21.98,
          26.2,
          25.59,
          26.67,
          24.86,
          23.68,
          23.07,
          27.51,
          27.6,
          23.463,
          19.62,
          20.64,
          18.35,
          20.95,
          21.42,
          25.2,
          26.9,
          25.4,
          26.1,
          27.2,
          23.39,
          23.52,
          26.97,
          26.04,
          16.74,
          18.7,
          22.84,
          24.3,
          27.43,
          20.08,
          20.85,
          27.04,
          26.02,
          24.99,
          28.31,
          24.32,
          23.89,
          25.25,
          20.53,
          19.27,
          22.91,
          18.12,
          24,
          21.17,
          24.88,
          28.21,
          24.33,
          19.25,
          24.34,
          24.1,
          25.85,
          29.49,
          23.27,
          25.29,
          18.12,
          25.26,
          18.6,
          22.29,
          22.21,
          20.59,
          26.2,
          27.1,
          25.8,
          24.25,
          22.81,
          28.31,
          21.78,
          21.05,
          21.32,
          25.24,
          28.67,
          27.75,
          25.41,
          25.67,
          23.58,
          30.64,
          28.16,
          24.14,
          21.28,
          29.2,
          27.9,
          22.29,
          26.68,
          26.4,
          21.12,
          20.18,
          24.38,
          26.22,
          27.96,
          24.88,
          24.67,
          28.07,
          21.9,
          16.4,
          20.16,
          24.5,
          23.7,
          22.7,
          23.33,
          25.64,
          26,
          26.63,
          20.56,
          25.98,
          21.96,
          25.04,
          25.91,
          24.8,
          27.73,
          26.78,
          22.3,
          27.4,
          22.07,
          26.3,
          24.49,
          28.2,
          24.02,
          26.13,
          23.6,
          23.62,
          22.78,
          23.34,
          23.34,
          25.05,
          13.51,
          17.97,
          20.89,
          23.53,
          26.9,
          20.58,
          23.55,
          24.86,
          18.6,
          22.23,
          24.6,
          23.26,
          23.18,
          29.1,
          21.94,
          22.14,
          27.15,
          27.45,
          23.81,
          25.92,
          21.68,
          20.8,
          22.93,
          20.54,
          21.98,
          23.18,
          22.63,
          22.15,
          19.43,
          27.5,
          23.11,
          24.44,
          27.05,
          25.25,
          23.34,
          23.85,
          26.46,
          24.71,
          24.98,
          21.4,
          25.51,
          17.91,
          21.59,
          26.93,
          25,
          22.19,
          22.45,
          24.07,
          21.98,
          24.76,
          25.89,
          22.2,
          24.55,
          25.95,
          25.12,
          22.6,
          24.47,
          25.43,
          29.12,
          24.46,
          27.1,
          25.9,
          23.53,
          26.16,
          28.05,
          17.98,
          19.24,
          19.05,
          22.62,
          24.05,
          26,
          24.4,
          27.3,
          27.9,
          24.34,
          25.12,
          29.69,
          29.65,
          29.08,
          27.3,
          27.55,
          22.72,
          22.81,
          21.13,
          20.15,
          24.5,
          25.51,
          22.55,
          25.5,
          26.1,
          26.25,
          26.1,
          21.58,
          27.16,
          21.3,
          27.22,
          27.09,
          24.37,
          27.79,
          26.73,
          25.23,
          23.82,
          20.61,
          21.46,
          23.2,
          21.75,
          25.06,
          24.8,
          23.3,
          26.6,
          25.72,
          25.4,
          25.78,
          24.65,
          26.43,
          25.64,
          24.06,
          26.45,
          26.19,
          28.21,
          24.6,
          25.8,
          28.43,
          27.27,
          24.01,
          25.98,
          21.73,
          23.76,
          22.34,
          25.98,
          21.64,
          27,
          24.69,
          21.11,
          20.34,
          22.33,
          24.94,
          24.4,
          26.61,
          27.73,
          21
         ],
         "yaxis": "y"
        }
       ],
       "layout": {
        "legend": {
         "tracegroupgap": 0
        },
        "template": {
         "data": {
          "bar": [
           {
            "error_x": {
             "color": "#2a3f5f"
            },
            "error_y": {
             "color": "#2a3f5f"
            },
            "marker": {
             "line": {
              "color": "#E5ECF6",
              "width": 0.5
             },
             "pattern": {
              "fillmode": "overlay",
              "size": 10,
              "solidity": 0.2
             }
            },
            "type": "bar"
           }
          ],
          "barpolar": [
           {
            "marker": {
             "line": {
              "color": "#E5ECF6",
              "width": 0.5
             },
             "pattern": {
              "fillmode": "overlay",
              "size": 10,
              "solidity": 0.2
             }
            },
            "type": "barpolar"
           }
          ],
          "carpet": [
           {
            "aaxis": {
             "endlinecolor": "#2a3f5f",
             "gridcolor": "white",
             "linecolor": "white",
             "minorgridcolor": "white",
             "startlinecolor": "#2a3f5f"
            },
            "baxis": {
             "endlinecolor": "#2a3f5f",
             "gridcolor": "white",
             "linecolor": "white",
             "minorgridcolor": "white",
             "startlinecolor": "#2a3f5f"
            },
            "type": "carpet"
           }
          ],
          "choropleth": [
           {
            "colorbar": {
             "outlinewidth": 0,
             "ticks": ""
            },
            "type": "choropleth"
           }
          ],
          "contour": [
           {
            "colorbar": {
             "outlinewidth": 0,
             "ticks": ""
            },
            "colorscale": [
             [
              0,
              "#0d0887"
             ],
             [
              0.1111111111111111,
              "#46039f"
             ],
             [
              0.2222222222222222,
              "#7201a8"
             ],
             [
              0.3333333333333333,
              "#9c179e"
             ],
             [
              0.4444444444444444,
              "#bd3786"
             ],
             [
              0.5555555555555556,
              "#d8576b"
             ],
             [
              0.6666666666666666,
              "#ed7953"
             ],
             [
              0.7777777777777778,
              "#fb9f3a"
             ],
             [
              0.8888888888888888,
              "#fdca26"
             ],
             [
              1,
              "#f0f921"
             ]
            ],
            "type": "contour"
           }
          ],
          "contourcarpet": [
           {
            "colorbar": {
             "outlinewidth": 0,
             "ticks": ""
            },
            "type": "contourcarpet"
           }
          ],
          "heatmap": [
           {
            "colorbar": {
             "outlinewidth": 0,
             "ticks": ""
            },
            "colorscale": [
             [
              0,
              "#0d0887"
             ],
             [
              0.1111111111111111,
              "#46039f"
             ],
             [
              0.2222222222222222,
              "#7201a8"
             ],
             [
              0.3333333333333333,
              "#9c179e"
             ],
             [
              0.4444444444444444,
              "#bd3786"
             ],
             [
              0.5555555555555556,
              "#d8576b"
             ],
             [
              0.6666666666666666,
              "#ed7953"
             ],
             [
              0.7777777777777778,
              "#fb9f3a"
             ],
             [
              0.8888888888888888,
              "#fdca26"
             ],
             [
              1,
              "#f0f921"
             ]
            ],
            "type": "heatmap"
           }
          ],
          "heatmapgl": [
           {
            "colorbar": {
             "outlinewidth": 0,
             "ticks": ""
            },
            "colorscale": [
             [
              0,
              "#0d0887"
             ],
             [
              0.1111111111111111,
              "#46039f"
             ],
             [
              0.2222222222222222,
              "#7201a8"
             ],
             [
              0.3333333333333333,
              "#9c179e"
             ],
             [
              0.4444444444444444,
              "#bd3786"
             ],
             [
              0.5555555555555556,
              "#d8576b"
             ],
             [
              0.6666666666666666,
              "#ed7953"
             ],
             [
              0.7777777777777778,
              "#fb9f3a"
             ],
             [
              0.8888888888888888,
              "#fdca26"
             ],
             [
              1,
              "#f0f921"
             ]
            ],
            "type": "heatmapgl"
           }
          ],
          "histogram": [
           {
            "marker": {
             "pattern": {
              "fillmode": "overlay",
              "size": 10,
              "solidity": 0.2
             }
            },
            "type": "histogram"
           }
          ],
          "histogram2d": [
           {
            "colorbar": {
             "outlinewidth": 0,
             "ticks": ""
            },
            "colorscale": [
             [
              0,
              "#0d0887"
             ],
             [
              0.1111111111111111,
              "#46039f"
             ],
             [
              0.2222222222222222,
              "#7201a8"
             ],
             [
              0.3333333333333333,
              "#9c179e"
             ],
             [
              0.4444444444444444,
              "#bd3786"
             ],
             [
              0.5555555555555556,
              "#d8576b"
             ],
             [
              0.6666666666666666,
              "#ed7953"
             ],
             [
              0.7777777777777778,
              "#fb9f3a"
             ],
             [
              0.8888888888888888,
              "#fdca26"
             ],
             [
              1,
              "#f0f921"
             ]
            ],
            "type": "histogram2d"
           }
          ],
          "histogram2dcontour": [
           {
            "colorbar": {
             "outlinewidth": 0,
             "ticks": ""
            },
            "colorscale": [
             [
              0,
              "#0d0887"
             ],
             [
              0.1111111111111111,
              "#46039f"
             ],
             [
              0.2222222222222222,
              "#7201a8"
             ],
             [
              0.3333333333333333,
              "#9c179e"
             ],
             [
              0.4444444444444444,
              "#bd3786"
             ],
             [
              0.5555555555555556,
              "#d8576b"
             ],
             [
              0.6666666666666666,
              "#ed7953"
             ],
             [
              0.7777777777777778,
              "#fb9f3a"
             ],
             [
              0.8888888888888888,
              "#fdca26"
             ],
             [
              1,
              "#f0f921"
             ]
            ],
            "type": "histogram2dcontour"
           }
          ],
          "mesh3d": [
           {
            "colorbar": {
             "outlinewidth": 0,
             "ticks": ""
            },
            "type": "mesh3d"
           }
          ],
          "parcoords": [
           {
            "line": {
             "colorbar": {
              "outlinewidth": 0,
              "ticks": ""
             }
            },
            "type": "parcoords"
           }
          ],
          "pie": [
           {
            "automargin": true,
            "type": "pie"
           }
          ],
          "scatter": [
           {
            "fillpattern": {
             "fillmode": "overlay",
             "size": 10,
             "solidity": 0.2
            },
            "type": "scatter"
           }
          ],
          "scatter3d": [
           {
            "line": {
             "colorbar": {
              "outlinewidth": 0,
              "ticks": ""
             }
            },
            "marker": {
             "colorbar": {
              "outlinewidth": 0,
              "ticks": ""
             }
            },
            "type": "scatter3d"
           }
          ],
          "scattercarpet": [
           {
            "marker": {
             "colorbar": {
              "outlinewidth": 0,
              "ticks": ""
             }
            },
            "type": "scattercarpet"
           }
          ],
          "scattergeo": [
           {
            "marker": {
             "colorbar": {
              "outlinewidth": 0,
              "ticks": ""
             }
            },
            "type": "scattergeo"
           }
          ],
          "scattergl": [
           {
            "marker": {
             "colorbar": {
              "outlinewidth": 0,
              "ticks": ""
             }
            },
            "type": "scattergl"
           }
          ],
          "scattermapbox": [
           {
            "marker": {
             "colorbar": {
              "outlinewidth": 0,
              "ticks": ""
             }
            },
            "type": "scattermapbox"
           }
          ],
          "scatterpolar": [
           {
            "marker": {
             "colorbar": {
              "outlinewidth": 0,
              "ticks": ""
             }
            },
            "type": "scatterpolar"
           }
          ],
          "scatterpolargl": [
           {
            "marker": {
             "colorbar": {
              "outlinewidth": 0,
              "ticks": ""
             }
            },
            "type": "scatterpolargl"
           }
          ],
          "scatterternary": [
           {
            "marker": {
             "colorbar": {
              "outlinewidth": 0,
              "ticks": ""
             }
            },
            "type": "scatterternary"
           }
          ],
          "surface": [
           {
            "colorbar": {
             "outlinewidth": 0,
             "ticks": ""
            },
            "colorscale": [
             [
              0,
              "#0d0887"
             ],
             [
              0.1111111111111111,
              "#46039f"
             ],
             [
              0.2222222222222222,
              "#7201a8"
             ],
             [
              0.3333333333333333,
              "#9c179e"
             ],
             [
              0.4444444444444444,
              "#bd3786"
             ],
             [
              0.5555555555555556,
              "#d8576b"
             ],
             [
              0.6666666666666666,
              "#ed7953"
             ],
             [
              0.7777777777777778,
              "#fb9f3a"
             ],
             [
              0.8888888888888888,
              "#fdca26"
             ],
             [
              1,
              "#f0f921"
             ]
            ],
            "type": "surface"
           }
          ],
          "table": [
           {
            "cells": {
             "fill": {
              "color": "#EBF0F8"
             },
             "line": {
              "color": "white"
             }
            },
            "header": {
             "fill": {
              "color": "#C8D4E3"
             },
             "line": {
              "color": "white"
             }
            },
            "type": "table"
           }
          ]
         },
         "layout": {
          "annotationdefaults": {
           "arrowcolor": "#2a3f5f",
           "arrowhead": 0,
           "arrowwidth": 1
          },
          "autotypenumbers": "strict",
          "coloraxis": {
           "colorbar": {
            "outlinewidth": 0,
            "ticks": ""
           }
          },
          "colorscale": {
           "diverging": [
            [
             0,
             "#8e0152"
            ],
            [
             0.1,
             "#c51b7d"
            ],
            [
             0.2,
             "#de77ae"
            ],
            [
             0.3,
             "#f1b6da"
            ],
            [
             0.4,
             "#fde0ef"
            ],
            [
             0.5,
             "#f7f7f7"
            ],
            [
             0.6,
             "#e6f5d0"
            ],
            [
             0.7,
             "#b8e186"
            ],
            [
             0.8,
             "#7fbc41"
            ],
            [
             0.9,
             "#4d9221"
            ],
            [
             1,
             "#276419"
            ]
           ],
           "sequential": [
            [
             0,
             "#0d0887"
            ],
            [
             0.1111111111111111,
             "#46039f"
            ],
            [
             0.2222222222222222,
             "#7201a8"
            ],
            [
             0.3333333333333333,
             "#9c179e"
            ],
            [
             0.4444444444444444,
             "#bd3786"
            ],
            [
             0.5555555555555556,
             "#d8576b"
            ],
            [
             0.6666666666666666,
             "#ed7953"
            ],
            [
             0.7777777777777778,
             "#fb9f3a"
            ],
            [
             0.8888888888888888,
             "#fdca26"
            ],
            [
             1,
             "#f0f921"
            ]
           ],
           "sequentialminus": [
            [
             0,
             "#0d0887"
            ],
            [
             0.1111111111111111,
             "#46039f"
            ],
            [
             0.2222222222222222,
             "#7201a8"
            ],
            [
             0.3333333333333333,
             "#9c179e"
            ],
            [
             0.4444444444444444,
             "#bd3786"
            ],
            [
             0.5555555555555556,
             "#d8576b"
            ],
            [
             0.6666666666666666,
             "#ed7953"
            ],
            [
             0.7777777777777778,
             "#fb9f3a"
            ],
            [
             0.8888888888888888,
             "#fdca26"
            ],
            [
             1,
             "#f0f921"
            ]
           ]
          },
          "colorway": [
           "#636efa",
           "#EF553B",
           "#00cc96",
           "#ab63fa",
           "#FFA15A",
           "#19d3f3",
           "#FF6692",
           "#B6E880",
           "#FF97FF",
           "#FECB52"
          ],
          "font": {
           "color": "#2a3f5f"
          },
          "geo": {
           "bgcolor": "white",
           "lakecolor": "white",
           "landcolor": "#E5ECF6",
           "showlakes": true,
           "showland": true,
           "subunitcolor": "white"
          },
          "hoverlabel": {
           "align": "left"
          },
          "hovermode": "closest",
          "mapbox": {
           "style": "light"
          },
          "paper_bgcolor": "white",
          "plot_bgcolor": "#E5ECF6",
          "polar": {
           "angularaxis": {
            "gridcolor": "white",
            "linecolor": "white",
            "ticks": ""
           },
           "bgcolor": "#E5ECF6",
           "radialaxis": {
            "gridcolor": "white",
            "linecolor": "white",
            "ticks": ""
           }
          },
          "scene": {
           "xaxis": {
            "backgroundcolor": "#E5ECF6",
            "gridcolor": "white",
            "gridwidth": 2,
            "linecolor": "white",
            "showbackground": true,
            "ticks": "",
            "zerolinecolor": "white"
           },
           "yaxis": {
            "backgroundcolor": "#E5ECF6",
            "gridcolor": "white",
            "gridwidth": 2,
            "linecolor": "white",
            "showbackground": true,
            "ticks": "",
            "zerolinecolor": "white"
           },
           "zaxis": {
            "backgroundcolor": "#E5ECF6",
            "gridcolor": "white",
            "gridwidth": 2,
            "linecolor": "white",
            "showbackground": true,
            "ticks": "",
            "zerolinecolor": "white"
           }
          },
          "shapedefaults": {
           "line": {
            "color": "#2a3f5f"
           }
          },
          "ternary": {
           "aaxis": {
            "gridcolor": "white",
            "linecolor": "white",
            "ticks": ""
           },
           "baxis": {
            "gridcolor": "white",
            "linecolor": "white",
            "ticks": ""
           },
           "bgcolor": "#E5ECF6",
           "caxis": {
            "gridcolor": "white",
            "linecolor": "white",
            "ticks": ""
           }
          },
          "title": {
           "x": 0.05
          },
          "xaxis": {
           "automargin": true,
           "gridcolor": "white",
           "linecolor": "white",
           "ticks": "",
           "title": {
            "standoff": 15
           },
           "zerolinecolor": "white",
           "zerolinewidth": 2
          },
          "yaxis": {
           "automargin": true,
           "gridcolor": "white",
           "linecolor": "white",
           "ticks": "",
           "title": {
            "standoff": 15
           },
           "zerolinecolor": "white",
           "zerolinewidth": 2
          }
         }
        },
        "title": {
         "text": "Max Diameter vs Absolute Magnitude"
        },
        "xaxis": {
         "anchor": "y",
         "domain": [
          0,
          1
         ],
         "title": {
          "text": "Max_diameter"
         }
        },
        "yaxis": {
         "anchor": "x",
         "domain": [
          0,
          1
         ],
         "title": {
          "text": "Abs_magnitude"
         }
        }
       }
      }
     },
     "metadata": {},
     "output_type": "display_data"
    }
   ],
   "source": [
    "import plotly.express as px\n",
    "\n",
    "fig1 = px.scatter(x=df['Min_diameter'], y=df['Max_diameter'], title='Scatter Plot of Min Diameter vs Max Diameter')\n",
    "fig1.show()\n",
    "\n",
    "fig2 = px.scatter(df, x='Min_diameter', y='Abs_magnitude', title='Min Diameter vs Absolute Magnitude')\n",
    "fig2.show()\n",
    "\n",
    "\n",
    "fig3 = px.scatter(df, x='Max_diameter', y='Abs_magnitude', title='Max Diameter vs Absolute Magnitude')\n",
    "fig3.show()\n",
    "\n"
   ]
  },
  {
   "cell_type": "code",
   "execution_count": null,
   "metadata": {},
   "outputs": [],
   "source": []
  }
 ],
 "metadata": {
  "kernelspec": {
   "display_name": "Python 3",
   "language": "python",
   "name": "python3"
  },
  "language_info": {
   "codemirror_mode": {
    "name": "ipython",
    "version": 3
   },
   "file_extension": ".py",
   "mimetype": "text/x-python",
   "name": "python",
   "nbconvert_exporter": "python",
   "pygments_lexer": "ipython3",
   "version": "3.12.7"
  }
 },
 "nbformat": 4,
 "nbformat_minor": 2
}
